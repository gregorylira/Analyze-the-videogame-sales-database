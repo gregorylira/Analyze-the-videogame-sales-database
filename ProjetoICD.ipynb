{
  "nbformat": 4,
  "nbformat_minor": 0,
  "metadata": {
    "kernelspec": {
      "display_name": "Python 3",
      "language": "python",
      "name": "python3"
    },
    "language_info": {
      "codemirror_mode": {
        "name": "ipython",
        "version": 3
      },
      "file_extension": ".py",
      "mimetype": "text/x-python",
      "name": "python",
      "nbconvert_exporter": "python",
      "pygments_lexer": "ipython3",
      "version": "3.7.3"
    },
    "colab": {
      "name": "ProjetoICD.ipynb",
      "provenance": [],
      "toc_visible": true
    }
  },
  "cells": [
    {
      "cell_type": "code",
      "metadata": {
        "id": "rXMqzvg4jUP5",
        "outputId": "7d63aa53-a285-4b25-de36-aa3983f07f99",
        "colab": {
          "base_uri": "https://localhost:8080/",
          "height": 677
        }
      },
      "source": [
        "import pandas as pd\n",
        "import numpy as np\n",
        "import seaborn as sns\n",
        "\n",
        "vg = pd.read_csv(\"Database/vgsales.csv\")\n",
        "\n",
        "#função\n",
        "def vg_t (a):\n",
        "    print(\"Medidas de Centralidade e Dispersão para \",a)\n",
        "    print(\"media: \",vg[a].mean())\n",
        "    print(\"desvio padrão: \",vg[a].std())\n",
        "    print(\"mediana: \",vg[a].median())\n",
        "    print(\"variancia: \",vg[a].var())\n",
        "    print(\"moda:\\n\",vg[a].mode())\n",
        "    print(\"boxplot para \",a)\n",
        "    vg.boxplot(column=a)\n",
        "    \n",
        "vg"
      ],
      "execution_count": 2,
      "outputs": [
        {
          "output_type": "execute_result",
          "data": {
            "text/html": [
              "<div>\n",
              "<style scoped>\n",
              "    .dataframe tbody tr th:only-of-type {\n",
              "        vertical-align: middle;\n",
              "    }\n",
              "\n",
              "    .dataframe tbody tr th {\n",
              "        vertical-align: top;\n",
              "    }\n",
              "\n",
              "    .dataframe thead th {\n",
              "        text-align: right;\n",
              "    }\n",
              "</style>\n",
              "<table border=\"1\" class=\"dataframe\">\n",
              "  <thead>\n",
              "    <tr style=\"text-align: right;\">\n",
              "      <th></th>\n",
              "      <th>Rank</th>\n",
              "      <th>Name</th>\n",
              "      <th>Platform</th>\n",
              "      <th>Year</th>\n",
              "      <th>Genre</th>\n",
              "      <th>Publisher</th>\n",
              "      <th>NA_Sales</th>\n",
              "      <th>EU_Sales</th>\n",
              "      <th>JP_Sales</th>\n",
              "      <th>Other_Sales</th>\n",
              "      <th>Global_Sales</th>\n",
              "    </tr>\n",
              "  </thead>\n",
              "  <tbody>\n",
              "    <tr>\n",
              "      <th>0</th>\n",
              "      <td>1</td>\n",
              "      <td>Wii Sports</td>\n",
              "      <td>Wii</td>\n",
              "      <td>2006.0</td>\n",
              "      <td>Sports</td>\n",
              "      <td>Nintendo</td>\n",
              "      <td>41.49</td>\n",
              "      <td>29.02</td>\n",
              "      <td>3.77</td>\n",
              "      <td>8.46</td>\n",
              "      <td>82.74</td>\n",
              "    </tr>\n",
              "    <tr>\n",
              "      <th>1</th>\n",
              "      <td>2</td>\n",
              "      <td>Super Mario Bros.</td>\n",
              "      <td>NES</td>\n",
              "      <td>1985.0</td>\n",
              "      <td>Platform</td>\n",
              "      <td>Nintendo</td>\n",
              "      <td>29.08</td>\n",
              "      <td>3.58</td>\n",
              "      <td>6.81</td>\n",
              "      <td>0.77</td>\n",
              "      <td>40.24</td>\n",
              "    </tr>\n",
              "    <tr>\n",
              "      <th>2</th>\n",
              "      <td>3</td>\n",
              "      <td>Mario Kart Wii</td>\n",
              "      <td>Wii</td>\n",
              "      <td>2008.0</td>\n",
              "      <td>Racing</td>\n",
              "      <td>Nintendo</td>\n",
              "      <td>15.85</td>\n",
              "      <td>12.88</td>\n",
              "      <td>3.79</td>\n",
              "      <td>3.31</td>\n",
              "      <td>35.82</td>\n",
              "    </tr>\n",
              "    <tr>\n",
              "      <th>3</th>\n",
              "      <td>4</td>\n",
              "      <td>Wii Sports Resort</td>\n",
              "      <td>Wii</td>\n",
              "      <td>2009.0</td>\n",
              "      <td>Sports</td>\n",
              "      <td>Nintendo</td>\n",
              "      <td>15.75</td>\n",
              "      <td>11.01</td>\n",
              "      <td>3.28</td>\n",
              "      <td>2.96</td>\n",
              "      <td>33.00</td>\n",
              "    </tr>\n",
              "    <tr>\n",
              "      <th>4</th>\n",
              "      <td>5</td>\n",
              "      <td>Pokemon Red/Pokemon Blue</td>\n",
              "      <td>GB</td>\n",
              "      <td>1996.0</td>\n",
              "      <td>Role-Playing</td>\n",
              "      <td>Nintendo</td>\n",
              "      <td>11.27</td>\n",
              "      <td>8.89</td>\n",
              "      <td>10.22</td>\n",
              "      <td>1.00</td>\n",
              "      <td>31.37</td>\n",
              "    </tr>\n",
              "    <tr>\n",
              "      <th>...</th>\n",
              "      <td>...</td>\n",
              "      <td>...</td>\n",
              "      <td>...</td>\n",
              "      <td>...</td>\n",
              "      <td>...</td>\n",
              "      <td>...</td>\n",
              "      <td>...</td>\n",
              "      <td>...</td>\n",
              "      <td>...</td>\n",
              "      <td>...</td>\n",
              "      <td>...</td>\n",
              "    </tr>\n",
              "    <tr>\n",
              "      <th>16593</th>\n",
              "      <td>16596</td>\n",
              "      <td>Woody Woodpecker in Crazy Castle 5</td>\n",
              "      <td>GBA</td>\n",
              "      <td>2002.0</td>\n",
              "      <td>Platform</td>\n",
              "      <td>Kemco</td>\n",
              "      <td>0.01</td>\n",
              "      <td>0.00</td>\n",
              "      <td>0.00</td>\n",
              "      <td>0.00</td>\n",
              "      <td>0.01</td>\n",
              "    </tr>\n",
              "    <tr>\n",
              "      <th>16594</th>\n",
              "      <td>16597</td>\n",
              "      <td>Men in Black II: Alien Escape</td>\n",
              "      <td>GC</td>\n",
              "      <td>2003.0</td>\n",
              "      <td>Shooter</td>\n",
              "      <td>Infogrames</td>\n",
              "      <td>0.01</td>\n",
              "      <td>0.00</td>\n",
              "      <td>0.00</td>\n",
              "      <td>0.00</td>\n",
              "      <td>0.01</td>\n",
              "    </tr>\n",
              "    <tr>\n",
              "      <th>16595</th>\n",
              "      <td>16598</td>\n",
              "      <td>SCORE International Baja 1000: The Official Game</td>\n",
              "      <td>PS2</td>\n",
              "      <td>2008.0</td>\n",
              "      <td>Racing</td>\n",
              "      <td>Activision</td>\n",
              "      <td>0.00</td>\n",
              "      <td>0.00</td>\n",
              "      <td>0.00</td>\n",
              "      <td>0.00</td>\n",
              "      <td>0.01</td>\n",
              "    </tr>\n",
              "    <tr>\n",
              "      <th>16596</th>\n",
              "      <td>16599</td>\n",
              "      <td>Know How 2</td>\n",
              "      <td>DS</td>\n",
              "      <td>2010.0</td>\n",
              "      <td>Puzzle</td>\n",
              "      <td>7G//AMES</td>\n",
              "      <td>0.00</td>\n",
              "      <td>0.01</td>\n",
              "      <td>0.00</td>\n",
              "      <td>0.00</td>\n",
              "      <td>0.01</td>\n",
              "    </tr>\n",
              "    <tr>\n",
              "      <th>16597</th>\n",
              "      <td>16600</td>\n",
              "      <td>Spirits &amp; Spells</td>\n",
              "      <td>GBA</td>\n",
              "      <td>2003.0</td>\n",
              "      <td>Platform</td>\n",
              "      <td>Wanadoo</td>\n",
              "      <td>0.01</td>\n",
              "      <td>0.00</td>\n",
              "      <td>0.00</td>\n",
              "      <td>0.00</td>\n",
              "      <td>0.01</td>\n",
              "    </tr>\n",
              "  </tbody>\n",
              "</table>\n",
              "<p>16598 rows × 11 columns</p>\n",
              "</div>"
            ],
            "text/plain": [
              "        Rank  ... Global_Sales\n",
              "0          1  ...        82.74\n",
              "1          2  ...        40.24\n",
              "2          3  ...        35.82\n",
              "3          4  ...        33.00\n",
              "4          5  ...        31.37\n",
              "...      ...  ...          ...\n",
              "16593  16596  ...         0.01\n",
              "16594  16597  ...         0.01\n",
              "16595  16598  ...         0.01\n",
              "16596  16599  ...         0.01\n",
              "16597  16600  ...         0.01\n",
              "\n",
              "[16598 rows x 11 columns]"
            ]
          },
          "metadata": {
            "tags": []
          },
          "execution_count": 2
        }
      ]
    },
    {
      "cell_type": "code",
      "metadata": {
        "id": "n_jJ6qULIMYO"
      },
      "source": [
        "from google.colab import drive\n",
        "drive.mount('/content/drive')"
      ],
      "execution_count": null,
      "outputs": []
    },
    {
      "cell_type": "code",
      "metadata": {
        "id": "KgqLUlcDjUQf",
        "outputId": "8ee16e7a-7e48-4fcb-c8c1-085c4ee9da1c"
      },
      "source": [
        "processo = vg[\"Platform\"].value_counts()\n",
        "conc = pd.DataFrame(processo)\n",
        "print(\"Medidas de Centralidade e Dispersão para Platform\")\n",
        "print(\"media: \",processo.mean())\n",
        "print(\"desvio padrão: \",processo.std())\n",
        "print(\"mediana: \",processo.median())\n",
        "print(\"variancia: \",processo.var())\n",
        "print(\"moda:\\n\",processo.mode())\n",
        "print(\"boxplot para Platform\")\n",
        "conc.boxplot()"
      ],
      "execution_count": null,
      "outputs": [
        {
          "output_type": "stream",
          "text": [
            "Medidas de Centralidade e Dispersão para Platform\n",
            "media:  535.4193548387096\n",
            "desvio padrão:  630.0425262998018\n",
            "mediana:  239.0\n",
            "variancia:  396953.5849462365\n",
            "moda:\n",
            " 0     1\n",
            "1     6\n",
            "2    98\n",
            "dtype: int64\n",
            "boxplot para Platform\n"
          ],
          "name": "stdout"
        },
        {
          "output_type": "execute_result",
          "data": {
            "text/plain": [
              "<AxesSubplot:>"
            ]
          },
          "metadata": {
            "tags": []
          },
          "execution_count": 2
        },
        {
          "output_type": "display_data",
          "data": {
            "image/png": "[encoded data removed]",
            "text/plain": [
              "<Figure size 432x288 with 1 Axes>"
            ]
          },
          "metadata": {
            "tags": [],
            "needs_background": "light"
          }
        }
      ]
    },
    {
      "cell_type": "code",
      "metadata": {
        "id": "BMTodmuKjUQx",
        "outputId": "aebfcd54-bd39-409f-d10d-0f50d06c8014"
      },
      "source": [
        "vg_t(\"Year\")"
      ],
      "execution_count": null,
      "outputs": [
        {
          "output_type": "stream",
          "text": [
            "Medidas de Centralidade e Dispersão para  Year\n",
            "media:  2006.4064433147546\n",
            "desvio padrão:  5.828981114712805\n",
            "mediana:  2007.0\n",
            "variancia:  33.97702083567854\n",
            "moda:\n",
            " 0    2009.0\n",
            "dtype: float64\n",
            "boxplot para  Year\n"
          ],
          "name": "stdout"
        },
        {
          "output_type": "display_data",
          "data": {
            "image/png": "[encoded data removed]",
            "text/plain": [
              "<Figure size 432x288 with 1 Axes>"
            ]
          },
          "metadata": {
            "tags": [],
            "needs_background": "light"
          }
        }
      ]
    },
    {
      "cell_type": "code",
      "metadata": {
        "id": "EezUZ9hnjUQ9",
        "outputId": "b33fa620-0d32-452a-942f-bfeb38f25eab"
      },
      "source": [
        "processo = vg[\"Genre\"].value_counts()\n",
        "conc = pd.DataFrame(processo)\n",
        "print(\"Medidas de Centralidade e Dispersão para Genre\")\n",
        "print(\"media: \",processo.mean())\n",
        "print(\"desvio padrão: \",processo.std())\n",
        "print(\"mediana: \",processo.median())\n",
        "print(\"variancia: \",processo.var())\n",
        "print(\"moda:\\n\",processo.mode())\n",
        "print(\"boxplot para Genre\")\n",
        "conc.boxplot()"
      ],
      "execution_count": null,
      "outputs": [
        {
          "output_type": "stream",
          "text": [
            "Medidas de Centralidade e Dispersão para Genre\n",
            "media:  1383.1666666666667\n",
            "desvio padrão:  784.4052562678338\n",
            "mediana:  1267.5\n",
            "variancia:  615291.6060606061\n",
            "moda:\n",
            " 0      582\n",
            "1      681\n",
            "2      848\n",
            "3      867\n",
            "4      886\n",
            "5     1249\n",
            "6     1286\n",
            "7     1310\n",
            "8     1488\n",
            "9     1739\n",
            "10    2346\n",
            "11    3316\n",
            "dtype: int64\n",
            "boxplot para Genre\n"
          ],
          "name": "stdout"
        },
        {
          "output_type": "execute_result",
          "data": {
            "text/plain": [
              "<AxesSubplot:>"
            ]
          },
          "metadata": {
            "tags": []
          },
          "execution_count": 4
        },
        {
          "output_type": "display_data",
          "data": {
            "image/png": "[encoded data removed]",
            "text/plain": [
              "<Figure size 432x288 with 1 Axes>"
            ]
          },
          "metadata": {
            "tags": [],
            "needs_background": "light"
          }
        }
      ]
    },
    {
      "cell_type": "code",
      "metadata": {
        "id": "GtvAPOyujURH",
        "outputId": "1cca3818-8c93-4bb2-bf82-7e38a6d3767b"
      },
      "source": [
        "processo = vg[\"Publisher\"].value_counts()\n",
        "conc = pd.DataFrame(processo)\n",
        "print(\"Medidas de Centralidade e Dispersão para Publisher\")\n",
        "print(\"media: \",processo.mean())\n",
        "print(\"desvio padrão: \",processo.std())\n",
        "print(\"mediana: \",processo.median())\n",
        "print(\"variancia: \",processo.var())\n",
        "print(\"moda:\\n\",processo.mode())\n",
        "print(\"boxplot para Publisher\")\n",
        "conc.boxplot()"
      ],
      "execution_count": null,
      "outputs": [
        {
          "output_type": "stream",
          "text": [
            "Medidas de Centralidade e Dispersão para Publisher\n",
            "media:  28.6159169550173\n",
            "desvio padrão:  116.36031958954462\n",
            "mediana:  3.0\n",
            "variancia:  13539.72397498096\n",
            "moda:\n",
            " 0    1\n",
            "dtype: int64\n",
            "boxplot para Publisher\n"
          ],
          "name": "stdout"
        },
        {
          "output_type": "execute_result",
          "data": {
            "text/plain": [
              "<AxesSubplot:>"
            ]
          },
          "metadata": {
            "tags": []
          },
          "execution_count": 5
        },
        {
          "output_type": "display_data",
          "data": {
            "image/png": "[encoded data removed]",
            "text/plain": [
              "<Figure size 432x288 with 1 Axes>"
            ]
          },
          "metadata": {
            "tags": [],
            "needs_background": "light"
          }
        }
      ]
    },
    {
      "cell_type": "code",
      "metadata": {
        "id": "4c1U37KkjURR",
        "outputId": "c4b7331b-1693-42fa-a960-6271246bfe30"
      },
      "source": [
        "vg_t(\"NA_Sales\")\n"
      ],
      "execution_count": null,
      "outputs": [
        {
          "output_type": "stream",
          "text": [
            "Medidas de Centralidade e Dispersão para  NA_Sales\n",
            "media:  0.26466742981082064\n",
            "desvio padrão:  0.8166830292988796\n",
            "mediana:  0.08\n",
            "variancia:  0.6669711703447947\n",
            "moda:\n",
            " 0    0.0\n",
            "dtype: float64\n",
            "boxplot para  NA_Sales\n"
          ],
          "name": "stdout"
        },
        {
          "output_type": "display_data",
          "data": {
            "image/png": "[encoded data removed]",
            "text/plain": [
              "<Figure size 432x288 with 1 Axes>"
            ]
          },
          "metadata": {
            "tags": [],
            "needs_background": "light"
          }
        }
      ]
    },
    {
      "cell_type": "code",
      "metadata": {
        "id": "gH8SgGtxjURc",
        "outputId": "f08e8bfc-5a3c-493e-d594-40c3d0d24a19"
      },
      "source": [
        "vg_t(\"EU_Sales\")"
      ],
      "execution_count": null,
      "outputs": [
        {
          "output_type": "stream",
          "text": [
            "Medidas de Centralidade e Dispersão para  EU_Sales\n",
            "media:  0.14665200626581515\n",
            "desvio padrão:  0.5053512312869116\n",
            "mediana:  0.02\n",
            "variancia:  0.2553798669631976\n",
            "moda:\n",
            " 0    0.0\n",
            "dtype: float64\n",
            "boxplot para  EU_Sales\n"
          ],
          "name": "stdout"
        },
        {
          "output_type": "display_data",
          "data": {
            "image/png": "[encoded data removed]",
            "text/plain": [
              "<Figure size 432x288 with 1 Axes>"
            ]
          },
          "metadata": {
            "tags": [],
            "needs_background": "light"
          }
        }
      ]
    },
    {
      "cell_type": "code",
      "metadata": {
        "id": "uUWjDJO7jURn",
        "outputId": "400a6ed9-f6a5-49f1-e3cf-107fb36eb5e2"
      },
      "source": [
        "vg_t(\"JP_Sales\")"
      ],
      "execution_count": null,
      "outputs": [
        {
          "output_type": "stream",
          "text": [
            "Medidas de Centralidade e Dispersão para  JP_Sales\n",
            "media:  0.077781660441017\n",
            "desvio padrão:  0.30929064808220297\n",
            "mediana:  0.0\n",
            "variancia:  0.09566070499110912\n",
            "moda:\n",
            " 0    0.0\n",
            "dtype: float64\n",
            "boxplot para  JP_Sales\n"
          ],
          "name": "stdout"
        },
        {
          "output_type": "display_data",
          "data": {
            "image/png": "[encoded data removed]",
            "text/plain": [
              "<Figure size 432x288 with 1 Axes>"
            ]
          },
          "metadata": {
            "tags": [],
            "needs_background": "light"
          }
        }
      ]
    },
    {
      "cell_type": "code",
      "metadata": {
        "id": "7OxSlAr6jUR6",
        "outputId": "d0d49beb-2ef0-47b7-ab3f-cf3f8e9567d8"
      },
      "source": [
        "vg_t(\"Other_Sales\")"
      ],
      "execution_count": null,
      "outputs": [
        {
          "output_type": "stream",
          "text": [
            "Medidas de Centralidade e Dispersão para  Other_Sales\n",
            "media:  0.0480630196409206\n",
            "desvio padrão:  0.18858840291271461\n",
            "mediana:  0.01\n",
            "variancia:  0.03556558571316838\n",
            "moda:\n",
            " 0    0.0\n",
            "dtype: float64\n",
            "boxplot para  Other_Sales\n"
          ],
          "name": "stdout"
        },
        {
          "output_type": "display_data",
          "data": {
            "image/png": "[encoded data removed]",
            "text/plain": [
              "<Figure size 432x288 with 1 Axes>"
            ]
          },
          "metadata": {
            "tags": [],
            "needs_background": "light"
          }
        }
      ]
    },
    {
      "cell_type": "code",
      "metadata": {
        "id": "da5G38mwjUSE",
        "outputId": "d04a9bb9-84bb-479b-8e48-747d0f75ef45"
      },
      "source": [
        "vg_t(\"Global_Sales\")"
      ],
      "execution_count": null,
      "outputs": [
        {
          "output_type": "stream",
          "text": [
            "Medidas de Centralidade e Dispersão para  Global_Sales\n",
            "media:  0.5374406555006628\n",
            "desvio padrão:  1.5550279355699124\n",
            "mediana:  0.17\n",
            "variancia:  2.418111880402823\n",
            "moda:\n",
            " 0    0.02\n",
            "dtype: float64\n",
            "boxplot para  Global_Sales\n"
          ],
          "name": "stdout"
        },
        {
          "output_type": "display_data",
          "data": {
            "image/png": "[encoded data removed]",
            "text/plain": [
              "<Figure size 432x288 with 1 Axes>"
            ]
          },
          "metadata": {
            "tags": [],
            "needs_background": "light"
          }
        }
      ]
    },
    {
      "cell_type": "markdown",
      "metadata": {
        "id": "NlAlKiGwjUSO"
      },
      "source": [
        "# Visualização de Dados"
      ]
    },
    {
      "cell_type": "markdown",
      "metadata": {
        "id": "fatCliM9jUSQ"
      },
      "source": [
        "## Gráfico de linha\n",
        "Decidimos restringir a pesquisa para apenas aqueles que a nintendo publicou por causa da quantidade exorbitantes de dados que podem poluir e dificultar a visualização.\n"
      ]
    },
    {
      "cell_type": "code",
      "metadata": {
        "scrolled": true,
        "id": "e0-wYBvjjUSR"
      },
      "source": [
        "Nintendovg = vg[vg[\"Publisher\"] == \"Nintendo\"]"
      ],
      "execution_count": 4,
      "outputs": []
    },
    {
      "cell_type": "code",
      "metadata": {
        "id": "fe7qspuDjUSb",
        "outputId": "0a2121dc-1d3a-4efc-b15b-a2a64c811a60",
        "colab": {
          "base_uri": "https://localhost:8080/",
          "height": 296
        }
      },
      "source": [
        "sns.lineplot(data=Nintendovg, x=\"Year\", y=\"Global_Sales\", hue=\"Publisher\", marker=\"o\")"
      ],
      "execution_count": null,
      "outputs": [
        {
          "output_type": "execute_result",
          "data": {
            "text/plain": [
              "<matplotlib.axes._subplots.AxesSubplot at 0x7fe790cc0898>"
            ]
          },
          "metadata": {
            "tags": []
          },
          "execution_count": 11
        },
        {
          "output_type": "display_data",
          "data": {
            "image/png": "[encoded data removed]",
            "text/plain": [
              "<Figure size 432x288 with 1 Axes>"
            ]
          },
          "metadata": {
            "tags": [],
            "needs_background": "light"
          }
        }
      ]
    },
    {
      "cell_type": "code",
      "metadata": {
        "id": "AEnj-srsk6lF",
        "outputId": "af8e548f-9804-42a2-8df8-56e004ba56dd",
        "colab": {
          "base_uri": "https://localhost:8080/",
          "height": 163
        }
      },
      "source": [
        "g = sns.barplot(data=Nintendovg, x=\"Year\", y=\"Global_Sales\", hue=\"Publisher\")\n",
        "g.figure.set_figwidth(28)"
      ],
      "execution_count": 7,
      "outputs": [
        {
          "output_type": "display_data",
          "data": {
            "image/png": "[encoded data removed]",
            "text/plain": [
              "<Figure size 2016x288 with 1 Axes>"
            ]
          },
          "metadata": {
            "tags": [],
            "needs_background": "light"
          }
        }
      ]
    },
    {
      "cell_type": "markdown",
      "metadata": {
        "id": "fIIdCn_mjUSs"
      },
      "source": [
        "## Gráfico de barra\n",
        "Neste gráfico decidimos restringir a pesquisa apenas para os 5 primeiros do nosso dataframe pelos mesmos motivos já mencionados."
      ]
    },
    {
      "cell_type": "code",
      "metadata": {
        "id": "CpNlAQ2_jUSu",
        "outputId": "60742214-1e9e-4b6d-e5ec-1f5db94433a2",
        "colab": {
          "base_uri": "https://localhost:8080/",
          "height": 181
        }
      },
      "source": [
        "tratamentos = vg.head(10)\n",
        "\n",
        "tratamentos\n",
        "g = sns.barplot(data=tratamentos, x=\"Name\", y=\"Global_Sales\")\n",
        "g.figure.set_figwidth(25)"
      ],
      "execution_count": 13,
      "outputs": [
        {
          "output_type": "display_data",
          "data": {
            "image/png": "[encoded data removed]",
            "text/plain": [
              "<Figure size 1800x288 with 1 Axes>"
            ]
          },
          "metadata": {
            "tags": [],
            "needs_background": "light"
          }
        }
      ]
    },
    {
      "cell_type": "markdown",
      "metadata": {
        "id": "AARiFbhtjUS6"
      },
      "source": [
        "## Gráfico de correlação\n",
        "Fizemos a correlação de todos os dados numericos do dataframe.\n"
      ]
    },
    {
      "cell_type": "code",
      "metadata": {
        "scrolled": true,
        "id": "LUxbx608jUS8",
        "outputId": "d885f304-48fa-46d3-ba6c-b90eeba6e58d"
      },
      "source": [
        "vg.corr()\n",
        "sns.heatmap(vg.corr())"
      ],
      "execution_count": null,
      "outputs": [
        {
          "output_type": "execute_result",
          "data": {
            "text/plain": [
              "<matplotlib.axes._subplots.AxesSubplot at 0x21c6b7556d8>"
            ]
          },
          "metadata": {
            "tags": []
          },
          "execution_count": 56
        },
        {
          "output_type": "display_data",
          "data": {
            "image/png": "[encoded data removed]",
            "text/plain": [
              "<Figure size 432x288 with 2 Axes>"
            ]
          },
          "metadata": {
            "tags": [],
            "needs_background": "light"
          }
        }
      ]
    }
  ]
}