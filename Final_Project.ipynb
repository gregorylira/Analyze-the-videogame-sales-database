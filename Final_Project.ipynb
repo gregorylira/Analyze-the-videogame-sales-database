{
  "nbformat": 4,
  "nbformat_minor": 0,
  "metadata": {
    "colab": {
      "name": "Final_Project.ipynb",
      "provenance": [],
      "collapsed_sections": [],
      "toc_visible": true
    },
    "kernelspec": {
      "name": "python3",
      "display_name": "Python 3"
    }
  },
  "cells": [
    {
      "cell_type": "markdown",
      "metadata": {
        "id": "NPSE0lAbmka_"
      },
      "source": [
        "#Analyze The Videogame Sales Database\n",
        "##Grupo:\n",
        "- Gregory Filipe Lira da Silva\n",
        "- Lincoln Wallace Valentim da Costa Silva\n",
        "- Jacques Ramondot Neto\n",
        "\n",
        "\n",
        "\n",
        "\n",
        "\n"
      ]
    },
    {
      "cell_type": "markdown",
      "metadata": {
        "id": "wNe2gkRV1rGX"
      },
      "source": [
        "## 1. Introdução:\n",
        "&nbsp; O dataset Videogame Sales foi selecionado pelo grupo por se tratar de um conjunto de dados atrativo, rico e repleto de informações a serem trabalhadas.\n",
        "Ao longo dos meses conseguimos nos aperfeiçoar e aprofundar nossos conhecimentos em ciencia de dados, por fim aplicamos as variações de tecnicas em manipulação no banco de dados.\n",
        "\n",
        "&nbsp; Nossa finalidade com o dataset de videogame sales foi analisar como se comportou a venda durante os anos e como foi seu desenvolvimento ao longo do mesmo."
      ]
    },
    {
      "cell_type": "markdown",
      "metadata": {
        "id": "1KkByqnY1tD1"
      },
      "source": [
        "## 2. Descrição:\n",
        "&nbsp; O dataset Videogame Sales do kaggle possuindo 11 colunas, sendo elas:\n",
        "\n",
        "- Rank: ja classificado do maior para o menor os jogos que foram mais vendidos mundialmente.\n",
        "\n",
        "- Name: contem o nome dos jogos.\n",
        "\n",
        "- Plataform: Plataformas que foi lançada o jogo.\n",
        "\n",
        "- Year: Ano de lançamento.\n",
        "\n",
        "- Genre: Genero de cada jogo.\n",
        "\n",
        "- Publisher: Empresa que publicou o jogo.\n",
        "\n",
        "- NA_Sales, EU_Sales, JP_Sales, Other_Sales, Global_Sales: Contem o valor em milhão do faturamento de cada jogo.\n",
        "\n",
        "\n",
        "&nbsp; Com esse dataset é possivel saber qual empresa publicou qual jogo, qual jogo mais vendeu, qual o genero que mais se destacou, qual foi o ano de maior venda entre os jogos.\n",
        "\n",
        "&nbsp; Para as explorações iniciais foi pedido para calcular as medidas de centralidade e dispersão e plotar os boxplot, seguindo os codigos a seguir.\n",
        "\n"
      ]
    },
    {
      "cell_type": "code",
      "metadata": {
        "id": "emKmgwv43f3z",
        "colab": {
          "base_uri": "https://localhost:8080/",
          "height": 419
        },
        "outputId": "c12d57a1-b329-4a35-efd8-15e0785af7aa"
      },
      "source": [
        "import pandas as pd\n",
        "import numpy as np\n",
        "import seaborn as sns\n",
        "\n",
        "vg = pd.read_csv(\"Database/vgsales.csv\")\n",
        "vg"
      ],
      "execution_count": null,
      "outputs": [
        {
          "output_type": "execute_result",
          "data": {
            "text/html": [
              "<div>\n",
              "<style scoped>\n",
              "    .dataframe tbody tr th:only-of-type {\n",
              "        vertical-align: middle;\n",
              "    }\n",
              "\n",
              "    .dataframe tbody tr th {\n",
              "        vertical-align: top;\n",
              "    }\n",
              "\n",
              "    .dataframe thead th {\n",
              "        text-align: right;\n",
              "    }\n",
              "</style>\n",
              "<table border=\"1\" class=\"dataframe\">\n",
              "  <thead>\n",
              "    <tr style=\"text-align: right;\">\n",
              "      <th></th>\n",
              "      <th>Rank</th>\n",
              "      <th>Name</th>\n",
              "      <th>Platform</th>\n",
              "      <th>Year</th>\n",
              "      <th>Genre</th>\n",
              "      <th>Publisher</th>\n",
              "      <th>NA_Sales</th>\n",
              "      <th>EU_Sales</th>\n",
              "      <th>JP_Sales</th>\n",
              "      <th>Other_Sales</th>\n",
              "      <th>Global_Sales</th>\n",
              "    </tr>\n",
              "  </thead>\n",
              "  <tbody>\n",
              "    <tr>\n",
              "      <th>0</th>\n",
              "      <td>1</td>\n",
              "      <td>Wii Sports</td>\n",
              "      <td>Wii</td>\n",
              "      <td>2006.0</td>\n",
              "      <td>Sports</td>\n",
              "      <td>Nintendo</td>\n",
              "      <td>41.49</td>\n",
              "      <td>29.02</td>\n",
              "      <td>3.77</td>\n",
              "      <td>8.46</td>\n",
              "      <td>82.74</td>\n",
              "    </tr>\n",
              "    <tr>\n",
              "      <th>1</th>\n",
              "      <td>2</td>\n",
              "      <td>Super Mario Bros.</td>\n",
              "      <td>NES</td>\n",
              "      <td>1985.0</td>\n",
              "      <td>Platform</td>\n",
              "      <td>Nintendo</td>\n",
              "      <td>29.08</td>\n",
              "      <td>3.58</td>\n",
              "      <td>6.81</td>\n",
              "      <td>0.77</td>\n",
              "      <td>40.24</td>\n",
              "    </tr>\n",
              "    <tr>\n",
              "      <th>2</th>\n",
              "      <td>3</td>\n",
              "      <td>Mario Kart Wii</td>\n",
              "      <td>Wii</td>\n",
              "      <td>2008.0</td>\n",
              "      <td>Racing</td>\n",
              "      <td>Nintendo</td>\n",
              "      <td>15.85</td>\n",
              "      <td>12.88</td>\n",
              "      <td>3.79</td>\n",
              "      <td>3.31</td>\n",
              "      <td>35.82</td>\n",
              "    </tr>\n",
              "    <tr>\n",
              "      <th>3</th>\n",
              "      <td>4</td>\n",
              "      <td>Wii Sports Resort</td>\n",
              "      <td>Wii</td>\n",
              "      <td>2009.0</td>\n",
              "      <td>Sports</td>\n",
              "      <td>Nintendo</td>\n",
              "      <td>15.75</td>\n",
              "      <td>11.01</td>\n",
              "      <td>3.28</td>\n",
              "      <td>2.96</td>\n",
              "      <td>33.00</td>\n",
              "    </tr>\n",
              "    <tr>\n",
              "      <th>4</th>\n",
              "      <td>5</td>\n",
              "      <td>Pokemon Red/Pokemon Blue</td>\n",
              "      <td>GB</td>\n",
              "      <td>1996.0</td>\n",
              "      <td>Role-Playing</td>\n",
              "      <td>Nintendo</td>\n",
              "      <td>11.27</td>\n",
              "      <td>8.89</td>\n",
              "      <td>10.22</td>\n",
              "      <td>1.00</td>\n",
              "      <td>31.37</td>\n",
              "    </tr>\n",
              "    <tr>\n",
              "      <th>...</th>\n",
              "      <td>...</td>\n",
              "      <td>...</td>\n",
              "      <td>...</td>\n",
              "      <td>...</td>\n",
              "      <td>...</td>\n",
              "      <td>...</td>\n",
              "      <td>...</td>\n",
              "      <td>...</td>\n",
              "      <td>...</td>\n",
              "      <td>...</td>\n",
              "      <td>...</td>\n",
              "    </tr>\n",
              "    <tr>\n",
              "      <th>16593</th>\n",
              "      <td>16596</td>\n",
              "      <td>Woody Woodpecker in Crazy Castle 5</td>\n",
              "      <td>GBA</td>\n",
              "      <td>2002.0</td>\n",
              "      <td>Platform</td>\n",
              "      <td>Kemco</td>\n",
              "      <td>0.01</td>\n",
              "      <td>0.00</td>\n",
              "      <td>0.00</td>\n",
              "      <td>0.00</td>\n",
              "      <td>0.01</td>\n",
              "    </tr>\n",
              "    <tr>\n",
              "      <th>16594</th>\n",
              "      <td>16597</td>\n",
              "      <td>Men in Black II: Alien Escape</td>\n",
              "      <td>GC</td>\n",
              "      <td>2003.0</td>\n",
              "      <td>Shooter</td>\n",
              "      <td>Infogrames</td>\n",
              "      <td>0.01</td>\n",
              "      <td>0.00</td>\n",
              "      <td>0.00</td>\n",
              "      <td>0.00</td>\n",
              "      <td>0.01</td>\n",
              "    </tr>\n",
              "    <tr>\n",
              "      <th>16595</th>\n",
              "      <td>16598</td>\n",
              "      <td>SCORE International Baja 1000: The Official Game</td>\n",
              "      <td>PS2</td>\n",
              "      <td>2008.0</td>\n",
              "      <td>Racing</td>\n",
              "      <td>Activision</td>\n",
              "      <td>0.00</td>\n",
              "      <td>0.00</td>\n",
              "      <td>0.00</td>\n",
              "      <td>0.00</td>\n",
              "      <td>0.01</td>\n",
              "    </tr>\n",
              "    <tr>\n",
              "      <th>16596</th>\n",
              "      <td>16599</td>\n",
              "      <td>Know How 2</td>\n",
              "      <td>DS</td>\n",
              "      <td>2010.0</td>\n",
              "      <td>Puzzle</td>\n",
              "      <td>7G//AMES</td>\n",
              "      <td>0.00</td>\n",
              "      <td>0.01</td>\n",
              "      <td>0.00</td>\n",
              "      <td>0.00</td>\n",
              "      <td>0.01</td>\n",
              "    </tr>\n",
              "    <tr>\n",
              "      <th>16597</th>\n",
              "      <td>16600</td>\n",
              "      <td>Spirits &amp; Spells</td>\n",
              "      <td>GBA</td>\n",
              "      <td>2003.0</td>\n",
              "      <td>Platform</td>\n",
              "      <td>Wanadoo</td>\n",
              "      <td>0.01</td>\n",
              "      <td>0.00</td>\n",
              "      <td>0.00</td>\n",
              "      <td>0.00</td>\n",
              "      <td>0.01</td>\n",
              "    </tr>\n",
              "  </tbody>\n",
              "</table>\n",
              "<p>16598 rows × 11 columns</p>\n",
              "</div>"
            ],
            "text/plain": [
              "        Rank  ... Global_Sales\n",
              "0          1  ...        82.74\n",
              "1          2  ...        40.24\n",
              "2          3  ...        35.82\n",
              "3          4  ...        33.00\n",
              "4          5  ...        31.37\n",
              "...      ...  ...          ...\n",
              "16593  16596  ...         0.01\n",
              "16594  16597  ...         0.01\n",
              "16595  16598  ...         0.01\n",
              "16596  16599  ...         0.01\n",
              "16597  16600  ...         0.01\n",
              "\n",
              "[16598 rows x 11 columns]"
            ]
          },
          "metadata": {
            "tags": []
          },
          "execution_count": 71
        }
      ]
    },
    {
      "cell_type": "markdown",
      "metadata": {
        "id": "t-pUsSK64OM9"
      },
      "source": [
        "Foi criada uma função para facilitação fazer a medida de centralidade e dispersão para colunas numericas."
      ]
    },
    {
      "cell_type": "code",
      "metadata": {
        "id": "Cuu-awFQ21ZV"
      },
      "source": [
        "#função\n",
        "def vg_t (a):\n",
        "    print(\"Medidas de Centralidade e Dispersão para \",a)\n",
        "    print(\"media: \",vg[a].mean())\n",
        "    print(\"desvio padrão: \",vg[a].std())\n",
        "    print(\"mediana: \",vg[a].median())\n",
        "    print(\"variancia: \",vg[a].var())\n",
        "    print(\"moda:\\n\",vg[a].mode())\n",
        "    print(\"boxplot para \",a)\n",
        "    vg.boxplot(column=a)"
      ],
      "execution_count": null,
      "outputs": []
    },
    {
      "cell_type": "code",
      "metadata": {
        "colab": {
          "base_uri": "https://localhost:8080/",
          "height": 418
        },
        "id": "G8vgLl3F5eb_",
        "outputId": "270006bb-d957-430f-98f8-b59bb02940dd"
      },
      "source": [
        "vg_t(\"Year\")"
      ],
      "execution_count": null,
      "outputs": [
        {
          "output_type": "stream",
          "text": [
            "Medidas de Centralidade e Dispersão para  Year\n",
            "media:  2006.4064433147546\n",
            "desvio padrão:  5.828981114712785\n",
            "mediana:  2007.0\n",
            "variancia:  33.977020835678296\n",
            "moda:\n",
            " 0    2009.0\n",
            "dtype: float64\n",
            "boxplot para  Year\n"
          ],
          "name": "stdout"
        },
        {
          "output_type": "display_data",
          "data": {
            "image/png": "[encoded data removed]",
            "text/plain": [
              "<Figure size 432x288 with 1 Axes>"
            ]
          },
          "metadata": {
            "tags": [],
            "needs_background": "light"
          }
        }
      ]
    },
    {
      "cell_type": "code",
      "metadata": {
        "colab": {
          "base_uri": "https://localhost:8080/",
          "height": 419
        },
        "id": "HiNG12FO5jmh",
        "outputId": "c03aa241-effd-4efa-b08e-282877a817f5"
      },
      "source": [
        "vg_t(\"NA_Sales\")"
      ],
      "execution_count": null,
      "outputs": [
        {
          "output_type": "stream",
          "text": [
            "Medidas de Centralidade e Dispersão para  NA_Sales\n",
            "media:  0.26466742981084057\n",
            "desvio padrão:  0.8166830292990428\n",
            "mediana:  0.08\n",
            "variancia:  0.6669711703450613\n",
            "moda:\n",
            " 0    0.0\n",
            "dtype: float64\n",
            "boxplot para  NA_Sales\n"
          ],
          "name": "stdout"
        },
        {
          "output_type": "display_data",
          "data": {
            "image/png": "[encoded data removed]",
            "text/plain": [
              "<Figure size 432x288 with 1 Axes>"
            ]
          },
          "metadata": {
            "tags": [],
            "needs_background": "light"
          }
        }
      ]
    },
    {
      "cell_type": "code",
      "metadata": {
        "colab": {
          "base_uri": "https://localhost:8080/",
          "height": 420
        },
        "id": "LqHax2np5k_I",
        "outputId": "5fb83149-dd95-4592-f4b6-b331f93384e0"
      },
      "source": [
        "vg_t(\"EU_Sales\")"
      ],
      "execution_count": null,
      "outputs": [
        {
          "output_type": "stream",
          "text": [
            "Medidas de Centralidade e Dispersão para  EU_Sales\n",
            "media:  0.1466520062658483\n",
            "desvio padrão:  0.5053512312869366\n",
            "mediana:  0.02\n",
            "variancia:  0.25537986696322285\n",
            "moda:\n",
            " 0    0.0\n",
            "dtype: float64\n",
            "boxplot para  EU_Sales\n"
          ],
          "name": "stdout"
        },
        {
          "output_type": "display_data",
          "data": {
            "image/png": "[encoded data removed]",
            "text/plain": [
              "<Figure size 432x288 with 1 Axes>"
            ]
          },
          "metadata": {
            "tags": [],
            "needs_background": "light"
          }
        }
      ]
    },
    {
      "cell_type": "code",
      "metadata": {
        "colab": {
          "base_uri": "https://localhost:8080/",
          "height": 419
        },
        "id": "-x0bDjpF5mUK",
        "outputId": "a2fa7048-47ee-4281-a566-c708584b701e"
      },
      "source": [
        "vg_t(\"JP_Sales\")"
      ],
      "execution_count": null,
      "outputs": [
        {
          "output_type": "stream",
          "text": [
            "Medidas de Centralidade e Dispersão para  JP_Sales\n",
            "media:  0.07778166044101108\n",
            "desvio padrão:  0.30929064808213236\n",
            "mediana:  0.0\n",
            "variancia:  0.09566070499106545\n",
            "moda:\n",
            " 0    0.0\n",
            "dtype: float64\n",
            "boxplot para  JP_Sales\n"
          ],
          "name": "stdout"
        },
        {
          "output_type": "display_data",
          "data": {
            "image/png": "[encoded data removed]",
            "text/plain": [
              "<Figure size 432x288 with 1 Axes>"
            ]
          },
          "metadata": {
            "tags": [],
            "needs_background": "light"
          }
        }
      ]
    },
    {
      "cell_type": "code",
      "metadata": {
        "colab": {
          "base_uri": "https://localhost:8080/",
          "height": 419
        },
        "id": "ccwMDto45nvu",
        "outputId": "ec0cf885-a4c9-413a-a10f-0b87e7d56256"
      },
      "source": [
        "vg_t(\"Other_Sales\")"
      ],
      "execution_count": null,
      "outputs": [
        {
          "output_type": "stream",
          "text": [
            "Medidas de Centralidade e Dispersão para  Other_Sales\n",
            "media:  0.048063019640913515\n",
            "desvio padrão:  0.18858840291278392\n",
            "mediana:  0.01\n",
            "variancia:  0.03556558571319453\n",
            "moda:\n",
            " 0    0.0\n",
            "dtype: float64\n",
            "boxplot para  Other_Sales\n"
          ],
          "name": "stdout"
        },
        {
          "output_type": "display_data",
          "data": {
            "image/png": "[encoded data removed]",
            "text/plain": [
              "<Figure size 432x288 with 1 Axes>"
            ]
          },
          "metadata": {
            "tags": [],
            "needs_background": "light"
          }
        }
      ]
    },
    {
      "cell_type": "code",
      "metadata": {
        "colab": {
          "base_uri": "https://localhost:8080/",
          "height": 419
        },
        "id": "rWrG5kDZ5o6w",
        "outputId": "a2929b39-afe6-438c-a547-c867db89c540"
      },
      "source": [
        "vg_t(\"Global_Sales\")"
      ],
      "execution_count": null,
      "outputs": [
        {
          "output_type": "stream",
          "text": [
            "Medidas de Centralidade e Dispersão para  Global_Sales\n",
            "media:  0.53744065550074\n",
            "desvio padrão:  1.5550279355699022\n",
            "mediana:  0.17\n",
            "variancia:  2.4181118804027917\n",
            "moda:\n",
            " 0    0.02\n",
            "dtype: float64\n",
            "boxplot para  Global_Sales\n"
          ],
          "name": "stdout"
        },
        {
          "output_type": "display_data",
          "data": {
            "image/png": "[encoded data removed]",
            "text/plain": [
              "<Figure size 432x288 with 1 Axes>"
            ]
          },
          "metadata": {
            "tags": [],
            "needs_background": "light"
          }
        }
      ]
    },
    {
      "cell_type": "markdown",
      "metadata": {
        "id": "Zo2sIKceQguD"
      },
      "source": [
        "## 3. Limpeza e transformação dos dados necessários\n",
        "para inicio do tratamento foi necessario limpar todos os NAN e linhas que continham nulo no dataset, para fluir melhor e evitar problema quando for mexer nas colunas."
      ]
    },
    {
      "cell_type": "code",
      "metadata": {
        "id": "MX_J92JEbYVI"
      },
      "source": [
        "vg = vg.dropna()"
      ],
      "execution_count": null,
      "outputs": []
    },
    {
      "cell_type": "markdown",
      "metadata": {
        "id": "qkMWnbNtbgdm"
      },
      "source": [
        "Foi visto que seria necesssario, transformar a coluna Year em inteiro vendo que ela é flutuante."
      ]
    },
    {
      "cell_type": "code",
      "metadata": {
        "id": "-QyW4yaqQlMv"
      },
      "source": [
        "vg = vg[vg[\"Year\"].notnull()]\n",
        "vg = vg.astype({\"Year\":int})"
      ],
      "execution_count": null,
      "outputs": []
    },
    {
      "cell_type": "markdown",
      "metadata": {
        "id": "TCjAApNTCjMt"
      },
      "source": [
        "## 4. Perguntas"
      ]
    },
    {
      "cell_type": "markdown",
      "metadata": {
        "id": "ueCbw8VWDacT"
      },
      "source": [
        "### 4.1 Quais os gêneros mais presentes?"
      ]
    },
    {
      "cell_type": "code",
      "metadata": {
        "colab": {
          "base_uri": "https://localhost:8080/"
        },
        "id": "iHyIs2WeDjm7",
        "outputId": "e63f159c-0446-40da-966f-3ea215ab9ace"
      },
      "source": [
        "vg[\"Genre\"].value_counts()"
      ],
      "execution_count": null,
      "outputs": [
        {
          "output_type": "execute_result",
          "data": {
            "text/plain": [
              "Action          3251\n",
              "Sports          2304\n",
              "Misc            1686\n",
              "Role-Playing    1470\n",
              "Shooter         1282\n",
              "Adventure       1274\n",
              "Racing          1225\n",
              "Platform         875\n",
              "Simulation       848\n",
              "Fighting         836\n",
              "Strategy         670\n",
              "Puzzle           570\n",
              "Name: Genre, dtype: int64"
            ]
          },
          "metadata": {
            "tags": []
          },
          "execution_count": 81
        }
      ]
    },
    {
      "cell_type": "markdown",
      "metadata": {
        "id": "qDW4TiQNDuFg"
      },
      "source": [
        "Resposta: Logo é visto que o genero ação é o mais presente no conjunto de dados."
      ]
    },
    {
      "cell_type": "markdown",
      "metadata": {
        "id": "U18WTr-kD38k"
      },
      "source": [
        "### 4.2 Plataformas nas quais tiveram mais vendas de jogos?"
      ]
    },
    {
      "cell_type": "code",
      "metadata": {
        "colab": {
          "base_uri": "https://localhost:8080/",
          "height": 1000
        },
        "id": "8C01T6KaEB4j",
        "outputId": "d0d84f9c-4d16-4650-b088-15c8b3b61e3f"
      },
      "source": [
        "vg.groupby(\"Platform\").mean().sort_values(by=\"Global_Sales\",ascending=False)[[\"Global_Sales\"]]"
      ],
      "execution_count": null,
      "outputs": [
        {
          "output_type": "execute_result",
          "data": {
            "text/html": [
              "<div>\n",
              "<style scoped>\n",
              "    .dataframe tbody tr th:only-of-type {\n",
              "        vertical-align: middle;\n",
              "    }\n",
              "\n",
              "    .dataframe tbody tr th {\n",
              "        vertical-align: top;\n",
              "    }\n",
              "\n",
              "    .dataframe thead th {\n",
              "        text-align: right;\n",
              "    }\n",
              "</style>\n",
              "<table border=\"1\" class=\"dataframe\">\n",
              "  <thead>\n",
              "    <tr style=\"text-align: right;\">\n",
              "      <th></th>\n",
              "      <th>Global_Sales</th>\n",
              "    </tr>\n",
              "    <tr>\n",
              "      <th>Platform</th>\n",
              "      <th></th>\n",
              "    </tr>\n",
              "  </thead>\n",
              "  <tbody>\n",
              "    <tr>\n",
              "      <th>GB</th>\n",
              "      <td>2.622887</td>\n",
              "    </tr>\n",
              "    <tr>\n",
              "      <th>NES</th>\n",
              "      <td>2.561939</td>\n",
              "    </tr>\n",
              "    <tr>\n",
              "      <th>GEN</th>\n",
              "      <td>1.050370</td>\n",
              "    </tr>\n",
              "    <tr>\n",
              "      <th>SNES</th>\n",
              "      <td>0.837029</td>\n",
              "    </tr>\n",
              "    <tr>\n",
              "      <th>PS4</th>\n",
              "      <td>0.827679</td>\n",
              "    </tr>\n",
              "    <tr>\n",
              "      <th>X360</th>\n",
              "      <td>0.785737</td>\n",
              "    </tr>\n",
              "    <tr>\n",
              "      <th>2600</th>\n",
              "      <td>0.746293</td>\n",
              "    </tr>\n",
              "    <tr>\n",
              "      <th>PS3</th>\n",
              "      <td>0.728029</td>\n",
              "    </tr>\n",
              "    <tr>\n",
              "      <th>Wii</th>\n",
              "      <td>0.705279</td>\n",
              "    </tr>\n",
              "    <tr>\n",
              "      <th>N64</th>\n",
              "      <td>0.690538</td>\n",
              "    </tr>\n",
              "    <tr>\n",
              "      <th>XOne</th>\n",
              "      <td>0.662254</td>\n",
              "    </tr>\n",
              "    <tr>\n",
              "      <th>PS</th>\n",
              "      <td>0.611766</td>\n",
              "    </tr>\n",
              "    <tr>\n",
              "      <th>PS2</th>\n",
              "      <td>0.579906</td>\n",
              "    </tr>\n",
              "    <tr>\n",
              "      <th>WiiU</th>\n",
              "      <td>0.572448</td>\n",
              "    </tr>\n",
              "    <tr>\n",
              "      <th>3DS</th>\n",
              "      <td>0.493527</td>\n",
              "    </tr>\n",
              "    <tr>\n",
              "      <th>GBA</th>\n",
              "      <td>0.388830</td>\n",
              "    </tr>\n",
              "    <tr>\n",
              "      <th>DS</th>\n",
              "      <td>0.384284</td>\n",
              "    </tr>\n",
              "    <tr>\n",
              "      <th>GC</th>\n",
              "      <td>0.363727</td>\n",
              "    </tr>\n",
              "    <tr>\n",
              "      <th>XB</th>\n",
              "      <td>0.313935</td>\n",
              "    </tr>\n",
              "    <tr>\n",
              "      <th>SCD</th>\n",
              "      <td>0.311667</td>\n",
              "    </tr>\n",
              "    <tr>\n",
              "      <th>DC</th>\n",
              "      <td>0.307115</td>\n",
              "    </tr>\n",
              "    <tr>\n",
              "      <th>PC</th>\n",
              "      <td>0.271535</td>\n",
              "    </tr>\n",
              "    <tr>\n",
              "      <th>PSP</th>\n",
              "      <td>0.243701</td>\n",
              "    </tr>\n",
              "    <tr>\n",
              "      <th>WS</th>\n",
              "      <td>0.236667</td>\n",
              "    </tr>\n",
              "    <tr>\n",
              "      <th>SAT</th>\n",
              "      <td>0.194162</td>\n",
              "    </tr>\n",
              "    <tr>\n",
              "      <th>PSV</th>\n",
              "      <td>0.150244</td>\n",
              "    </tr>\n",
              "    <tr>\n",
              "      <th>NG</th>\n",
              "      <td>0.120000</td>\n",
              "    </tr>\n",
              "    <tr>\n",
              "      <th>TG16</th>\n",
              "      <td>0.080000</td>\n",
              "    </tr>\n",
              "    <tr>\n",
              "      <th>GG</th>\n",
              "      <td>0.040000</td>\n",
              "    </tr>\n",
              "    <tr>\n",
              "      <th>3DO</th>\n",
              "      <td>0.033333</td>\n",
              "    </tr>\n",
              "    <tr>\n",
              "      <th>PCFX</th>\n",
              "      <td>0.030000</td>\n",
              "    </tr>\n",
              "  </tbody>\n",
              "</table>\n",
              "</div>"
            ],
            "text/plain": [
              "          Global_Sales\n",
              "Platform              \n",
              "GB            2.622887\n",
              "NES           2.561939\n",
              "GEN           1.050370\n",
              "SNES          0.837029\n",
              "PS4           0.827679\n",
              "X360          0.785737\n",
              "2600          0.746293\n",
              "PS3           0.728029\n",
              "Wii           0.705279\n",
              "N64           0.690538\n",
              "XOne          0.662254\n",
              "PS            0.611766\n",
              "PS2           0.579906\n",
              "WiiU          0.572448\n",
              "3DS           0.493527\n",
              "GBA           0.388830\n",
              "DS            0.384284\n",
              "GC            0.363727\n",
              "XB            0.313935\n",
              "SCD           0.311667\n",
              "DC            0.307115\n",
              "PC            0.271535\n",
              "PSP           0.243701\n",
              "WS            0.236667\n",
              "SAT           0.194162\n",
              "PSV           0.150244\n",
              "NG            0.120000\n",
              "TG16          0.080000\n",
              "GG            0.040000\n",
              "3DO           0.033333\n",
              "PCFX          0.030000"
            ]
          },
          "metadata": {
            "tags": []
          },
          "execution_count": 82
        }
      ]
    },
    {
      "cell_type": "markdown",
      "metadata": {
        "id": "Dv6VO33ZFNjT"
      },
      "source": [
        "Resposta: logo é visto que GB foi a plataforma com mais vendas global."
      ]
    },
    {
      "cell_type": "markdown",
      "metadata": {
        "id": "UG48wPk5FW6A"
      },
      "source": [
        "### 4.3 Quais jogos que venderam mais de 10.000.000 de cópias em 2 ou mais regiões do mundo?"
      ]
    },
    {
      "cell_type": "code",
      "metadata": {
        "colab": {
          "base_uri": "https://localhost:8080/",
          "height": 173
        },
        "id": "F91DKo-nGLyK",
        "outputId": "fc9fda8b-1de1-4089-a84a-320c3d1be026"
      },
      "source": [
        "vg[(vg['NA_Sales'] >= 10) & (vg['EU_Sales'] >=10 ) | (vg['NA_Sales'] >=10 ) & (vg['JP_Sales'] >=10 ) | (vg['NA_Sales'] >=10 ) & (vg['Other_Sales'] >=10 ) \n",
        "| (vg['EU_Sales'] >=10 ) & (vg['JP_Sales'] >=10 ) | (vg['EU_Sales'] >=10 ) & (vg['Other_Sales'] >=10 ) | (vg['JP_Sales'] >=10 ) & (vg['Other_Sales'] >=10 )]"
      ],
      "execution_count": null,
      "outputs": [
        {
          "output_type": "execute_result",
          "data": {
            "text/html": [
              "<div>\n",
              "<style scoped>\n",
              "    .dataframe tbody tr th:only-of-type {\n",
              "        vertical-align: middle;\n",
              "    }\n",
              "\n",
              "    .dataframe tbody tr th {\n",
              "        vertical-align: top;\n",
              "    }\n",
              "\n",
              "    .dataframe thead th {\n",
              "        text-align: right;\n",
              "    }\n",
              "</style>\n",
              "<table border=\"1\" class=\"dataframe\">\n",
              "  <thead>\n",
              "    <tr style=\"text-align: right;\">\n",
              "      <th></th>\n",
              "      <th>Rank</th>\n",
              "      <th>Name</th>\n",
              "      <th>Platform</th>\n",
              "      <th>Year</th>\n",
              "      <th>Genre</th>\n",
              "      <th>Publisher</th>\n",
              "      <th>NA_Sales</th>\n",
              "      <th>EU_Sales</th>\n",
              "      <th>JP_Sales</th>\n",
              "      <th>Other_Sales</th>\n",
              "      <th>Global_Sales</th>\n",
              "    </tr>\n",
              "  </thead>\n",
              "  <tbody>\n",
              "    <tr>\n",
              "      <th>0</th>\n",
              "      <td>1</td>\n",
              "      <td>Wii Sports</td>\n",
              "      <td>Wii</td>\n",
              "      <td>2006</td>\n",
              "      <td>Sports</td>\n",
              "      <td>Nintendo</td>\n",
              "      <td>41.49</td>\n",
              "      <td>29.02</td>\n",
              "      <td>3.77</td>\n",
              "      <td>8.46</td>\n",
              "      <td>82.74</td>\n",
              "    </tr>\n",
              "    <tr>\n",
              "      <th>2</th>\n",
              "      <td>3</td>\n",
              "      <td>Mario Kart Wii</td>\n",
              "      <td>Wii</td>\n",
              "      <td>2008</td>\n",
              "      <td>Racing</td>\n",
              "      <td>Nintendo</td>\n",
              "      <td>15.85</td>\n",
              "      <td>12.88</td>\n",
              "      <td>3.79</td>\n",
              "      <td>3.31</td>\n",
              "      <td>35.82</td>\n",
              "    </tr>\n",
              "    <tr>\n",
              "      <th>3</th>\n",
              "      <td>4</td>\n",
              "      <td>Wii Sports Resort</td>\n",
              "      <td>Wii</td>\n",
              "      <td>2009</td>\n",
              "      <td>Sports</td>\n",
              "      <td>Nintendo</td>\n",
              "      <td>15.75</td>\n",
              "      <td>11.01</td>\n",
              "      <td>3.28</td>\n",
              "      <td>2.96</td>\n",
              "      <td>33.00</td>\n",
              "    </tr>\n",
              "    <tr>\n",
              "      <th>4</th>\n",
              "      <td>5</td>\n",
              "      <td>Pokemon Red/Pokemon Blue</td>\n",
              "      <td>GB</td>\n",
              "      <td>1996</td>\n",
              "      <td>Role-Playing</td>\n",
              "      <td>Nintendo</td>\n",
              "      <td>11.27</td>\n",
              "      <td>8.89</td>\n",
              "      <td>10.22</td>\n",
              "      <td>1.00</td>\n",
              "      <td>31.37</td>\n",
              "    </tr>\n",
              "  </tbody>\n",
              "</table>\n",
              "</div>"
            ],
            "text/plain": [
              "   Rank                      Name Platform  ...  JP_Sales Other_Sales Global_Sales\n",
              "0     1                Wii Sports      Wii  ...      3.77        8.46        82.74\n",
              "2     3            Mario Kart Wii      Wii  ...      3.79        3.31        35.82\n",
              "3     4         Wii Sports Resort      Wii  ...      3.28        2.96        33.00\n",
              "4     5  Pokemon Red/Pokemon Blue       GB  ...     10.22        1.00        31.37\n",
              "\n",
              "[4 rows x 11 columns]"
            ]
          },
          "metadata": {
            "tags": []
          },
          "execution_count": 83
        }
      ]
    },
    {
      "cell_type": "markdown",
      "metadata": {
        "id": "y1GFw0kgKPgz"
      },
      "source": [
        "Resposta: Logo é visto que temos apenas 4 jogos que chegam a mais de 10 milhões de copias em mais de duas regiões."
      ]
    },
    {
      "cell_type": "markdown",
      "metadata": {
        "id": "yQcAn7NtKtj9"
      },
      "source": [
        "### 4.4 Como podemos usar agrupamento para predizer o que vai acontecer na industria dos games com o passar dos anos ?"
      ]
    },
    {
      "cell_type": "code",
      "metadata": {
        "colab": {
          "base_uri": "https://localhost:8080/",
          "height": 279
        },
        "id": "Cd_HgO9ub3jW",
        "outputId": "819518aa-fe13-406a-d8e2-0ace869c131a"
      },
      "source": [
        "g = sns.scatterplot(data=vg, x=\"Year\", y=\"Global_Sales\")\n",
        "g.figure.set_figwidth(12)"
      ],
      "execution_count": null,
      "outputs": [
        {
          "output_type": "display_data",
          "data": {
            "image/png": "[encoded data removed]",
            "text/plain": [
              "<Figure size 864x288 with 1 Axes>"
            ]
          },
          "metadata": {
            "tags": [],
            "needs_background": "light"
          }
        }
      ]
    },
    {
      "cell_type": "code",
      "metadata": {
        "colab": {
          "base_uri": "https://localhost:8080/"
        },
        "id": "7PTWs4MOcShJ",
        "outputId": "054b44ca-43d7-4939-860a-6723e35e2db5"
      },
      "source": [
        "from sklearn.cluster import KMeans\n",
        "\n",
        "grupos_vg = vg[[\"Year\",\"Global_Sales\"]]\n",
        "\n",
        "kmeans = KMeans(n_clusters=2)\n",
        "kmeans.fit(grupos_vg)"
      ],
      "execution_count": null,
      "outputs": [
        {
          "output_type": "execute_result",
          "data": {
            "text/plain": [
              "KMeans(algorithm='auto', copy_x=True, init='k-means++', max_iter=300,\n",
              "       n_clusters=2, n_init=10, n_jobs=None, precompute_distances='auto',\n",
              "       random_state=None, tol=0.0001, verbose=0)"
            ]
          },
          "metadata": {
            "tags": []
          },
          "execution_count": 85
        }
      ]
    },
    {
      "cell_type": "code",
      "metadata": {
        "colab": {
          "base_uri": "https://localhost:8080/",
          "height": 279
        },
        "id": "l0Fqz7JJdeLv",
        "outputId": "39658344-92cc-41b7-b8ac-39ef0cb86aa4"
      },
      "source": [
        "g = sns.scatterplot(data=grupos_vg, x=\"Year\", y=\"Global_Sales\", hue=kmeans.labels_)\n",
        "g.figure.set_figwidth(12)"
      ],
      "execution_count": null,
      "outputs": [
        {
          "output_type": "display_data",
          "data": {
            "image/png": "[encoded data removed]",
            "text/plain": [
              "<Figure size 864x288 with 1 Axes>"
            ]
          },
          "metadata": {
            "tags": [],
            "needs_background": "light"
          }
        }
      ]
    },
    {
      "cell_type": "code",
      "metadata": {
        "id": "vE5T4WArfvX-",
        "colab": {
          "base_uri": "https://localhost:8080/"
        },
        "outputId": "4af3c6b8-a311-42b6-9549-69e92ef19b0d"
      },
      "source": [
        "print(vg[kmeans.labels_ == 0][\"Global_Sales\"].sum())\n",
        "print(vg[kmeans.labels_ == 1][\"Global_Sales\"].sum())"
      ],
      "execution_count": null,
      "outputs": [
        {
          "output_type": "stream",
          "text": [
            "5325.1500000000015\n",
            "3486.8199999999997\n"
          ],
          "name": "stdout"
        }
      ]
    },
    {
      "cell_type": "markdown",
      "metadata": {
        "id": "PcguMbEDMlxt"
      },
      "source": [
        "Reposta: Como podemos observar a partir 2005 teve um \"Boom\" dos games, pois passaram a ser mais acessiveis para todas as classes sociais."
      ]
    },
    {
      "cell_type": "markdown",
      "metadata": {
        "id": "GqR3b3PTvQns"
      },
      "source": [
        "## 5. Conclusão"
      ]
    },
    {
      "cell_type": "markdown",
      "metadata": {
        "id": "k2ePdbOh8whO"
      },
      "source": [
        "### 5.1 Resultados encontrados"
      ]
    },
    {
      "cell_type": "markdown",
      "metadata": {
        "id": "uc7EOQc-vVxI"
      },
      "source": [
        "&nbsp; Olhando desde a exploração inicial que foi feita uma analise de medidas de centralidade e disperção do dataset foi visto uma grande variancia, logo quer dizer que existe uma grande descrepancia entre os elementos das linhas, pode ser visto isto nos boxplots. É uma boa analise a ser feita ate porque isto prova que existem jogos fora da curva do dataset que conseguem atingir outros patamares de vendas.\n",
        "\n",
        "&nbsp; Notório ver que o jogo Wii Sports foi o jogo mais vendido como visto no dataset, por ser um jogo feito para a família, acabando sendo muito mais vendido que qualquer outro jogo. Mesmo o Wii Sport sendo o mais vendido, vemos que o gênero mais presente é ação. Mostrando que mesmo esportes sendo bastante vendido a popularidade e a busca pelos jogos de ação se mostra bem notável, possivelmente devido as grandes franquias de jogos de ação que a cada lançamento se torna mais popular, como a franquia da Rockstar Grand Theft Auto.\n",
        "\n",
        "&nbsp; Foi mostrado tambem que existem poucos jogos que foram vendido mais de 10 milhões de copias em mais de duas regiões do mundo. Foi visto tambem que de acordo com o algoritimo de agrupamento k-means a grande explosão de vendas no mundo dos games foi a partir de 2005, onde claramente o desbloqueio do playstation 2 teve uma grande influencia nesses numeros, pois seus jogos passaram a ser mais acessiveis para todos os publicos."
      ]
    },
    {
      "cell_type": "markdown",
      "metadata": {
        "id": "1tWKm5Mrwjij"
      },
      "source": [
        "### 5.2 Limitações\n"
      ]
    },
    {
      "cell_type": "markdown",
      "metadata": {
        "id": "2nRobPQO9K1p"
      },
      "source": [
        "&nbsp; Existe um grande problema que encontramos no dataset, ele consiste em jogos com classificação de gênero errado e com apenas uma classificação, um exemplo que vemos na base de dados é o caso do fifa mostrada a seguir:"
      ]
    },
    {
      "cell_type": "code",
      "metadata": {
        "colab": {
          "base_uri": "https://localhost:8080/"
        },
        "id": "rdxatuNq9-sP",
        "outputId": "02e726d9-9075-4ddf-d994-036d9d385e18"
      },
      "source": [
        "vg[\"Name\"][vg[\"Genre\"] == \"Action\"].head(20)"
      ],
      "execution_count": null,
      "outputs": [
        {
          "output_type": "execute_result",
          "data": {
            "text/plain": [
              "16                         Grand Theft Auto V\n",
              "17              Grand Theft Auto: San Andreas\n",
              "23                         Grand Theft Auto V\n",
              "24                Grand Theft Auto: Vice City\n",
              "38                       Grand Theft Auto III\n",
              "44                         Grand Theft Auto V\n",
              "45       Pokemon HeartGold/Pokemon SoulSilver\n",
              "51                        Grand Theft Auto IV\n",
              "56                        Grand Theft Auto IV\n",
              "82                             FIFA Soccer 13\n",
              "90     Grand Theft Auto: Liberty City Stories\n",
              "94       The Legend of Zelda: Ocarina of Time\n",
              "100    The Legend of Zelda: Twilight Princess\n",
              "115            Uncharted 3: Drake's Deception\n",
              "119                Uncharted 2: Among Thieves\n",
              "123                       Red Dead Redemption\n",
              "127                       The Legend of Zelda\n",
              "128                      Assassin's Creed III\n",
              "134                       Red Dead Redemption\n",
              "138                                    Driver\n",
              "Name: Name, dtype: object"
            ]
          },
          "metadata": {
            "tags": []
          },
          "execution_count": 89
        }
      ]
    },
    {
      "cell_type": "markdown",
      "metadata": {
        "id": "6uz9YG-s-OMU"
      },
      "source": [
        "Logo visto no indice 82 FIFA Soccer 13 na área de ação"
      ]
    },
    {
      "cell_type": "markdown",
      "metadata": {
        "id": "gu0dKqOn-xsd"
      },
      "source": [
        "### 5.3 Trabalhos futuros e melhorias que podem ser feitas"
      ]
    },
    {
      "cell_type": "markdown",
      "metadata": {
        "id": "XyrHLXjs_MSR"
      },
      "source": [
        "&nbsp; Para trabalhos futuros com o dataset queremos acrescentar mais gráficos e mais manipulação com várias colunas. Além de querer trabalhar com novos datasets para se aprofundar no assunto.\n",
        "\n",
        "\n",
        "&nbsp; Para melhorias, a sugestão a ser feita seria acrescentar mais de um gênero, porque normalmente os jogos tem mais de uma classificação de gênero."
      ]
    }
  ]
}