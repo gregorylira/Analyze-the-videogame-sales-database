{
  "nbformat": 4,
  "nbformat_minor": 0,
  "metadata": {
    "colab": {
      "name": "Final_Project.ipynb",
      "provenance": [],
      "collapsed_sections": []
    },
    "kernelspec": {
      "name": "python3",
      "display_name": "Python 3"
    }
  },
  "cells": [
    {
      "cell_type": "markdown",
      "metadata": {
        "id": "NPSE0lAbmka_"
      },
      "source": [
        "#Analyze The Videogame Sales Database\n",
        "##Grupo:\n",
        "- Gregory Filipe Lira da Silva\n",
        "- Lincoln Wallace Valentim da Costa Silva\n",
        "- Jacques Ramondot Neto\n",
        "\n",
        "\n",
        "\n",
        "\n",
        "\n"
      ]
    },
    {
      "cell_type": "markdown",
      "metadata": {
        "id": "wNe2gkRV1rGX"
      },
      "source": [
        "## 1. Introdução:\n",
        "&nbsp; O dataset Videogame Sales foi selecionado pelo grupo por se tratar de um conjunto de dados atrativo, rico e repleto de informações a serem trabalhadas.\n",
        "Ao longo dos meses conseguimos nos aperfeiçoar e aprofundar nossos conhecimentos em ciencia de dados, por fim aplicamos as variações de tecnicas em manipulação no banco de dados.\n",
        "\n",
        "&nbsp; Nossa finalidade com o dataset de videogame sales foi analisar como se comportou a venda durante os anos e como foi seu desenvolvimento ao longo do mesmo."
      ]
    },
    {
      "cell_type": "markdown",
      "metadata": {
        "id": "1KkByqnY1tD1"
      },
      "source": [
        "## 2. Descrição:\n",
        "&nbsp; O dataset Videogame Sales do kaggle possuindo 11 colunas, sendo elas:\n",
        "\n",
        "- Rank: ja classificado do maior para o menor os jogos que foram mais vendidos mundialmente.\n",
        "\n",
        "- Name: contem o nome dos jogos.\n",
        "\n",
        "- Plataform: Plataformas que foi lançada o jogo.\n",
        "\n",
        "- Year: Ano de lançamento.\n",
        "\n",
        "- Genre: Genero de cada jogo.\n",
        "\n",
        "- Publisher: Empresa que publicou o jogo.\n",
        "\n",
        "- NA_Sales, EU_Sales, JP_Sales, Other_Sales, Global_Sales: Contem o valor em milhão do faturamento de cada jogo.\n",
        "\n",
        "\n",
        "&nbsp; Com esse dataset é possivel saber qual empresa publicou qual jogo, qual jogo mais vendeu, qual o genero que mais se destacou, qual foi o ano de maior venda entre os jogos.\n",
        "\n",
        "&nbsp; Para as explorações iniciais foi pedido para calcular as medidas de centralidade e dispersão e plotar os boxplot, seguindo os codigos a seguir.\n",
        "\n"
      ]
    },
    {
      "cell_type": "code",
      "metadata": {
        "id": "emKmgwv43f3z",
        "colab": {
          "base_uri": "https://localhost:8080/",
          "height": 419
        },
        "outputId": "f2477b36-3ba6-4204-d412-e9955712e484"
      },
      "source": [
        "import pandas as pd\n",
        "import numpy as np\n",
        "import seaborn as sns\n",
        "\n",
        "vg = pd.read_csv(\"Database/vgsales.csv\")\n",
        "vg"
      ],
      "execution_count": 140,
      "outputs": [
        {
          "output_type": "execute_result",
          "data": {
            "text/html": [
              "<div>\n",
              "<style scoped>\n",
              "    .dataframe tbody tr th:only-of-type {\n",
              "        vertical-align: middle;\n",
              "    }\n",
              "\n",
              "    .dataframe tbody tr th {\n",
              "        vertical-align: top;\n",
              "    }\n",
              "\n",
              "    .dataframe thead th {\n",
              "        text-align: right;\n",
              "    }\n",
              "</style>\n",
              "<table border=\"1\" class=\"dataframe\">\n",
              "  <thead>\n",
              "    <tr style=\"text-align: right;\">\n",
              "      <th></th>\n",
              "      <th>Rank</th>\n",
              "      <th>Name</th>\n",
              "      <th>Platform</th>\n",
              "      <th>Year</th>\n",
              "      <th>Genre</th>\n",
              "      <th>Publisher</th>\n",
              "      <th>NA_Sales</th>\n",
              "      <th>EU_Sales</th>\n",
              "      <th>JP_Sales</th>\n",
              "      <th>Other_Sales</th>\n",
              "      <th>Global_Sales</th>\n",
              "    </tr>\n",
              "  </thead>\n",
              "  <tbody>\n",
              "    <tr>\n",
              "      <th>0</th>\n",
              "      <td>1</td>\n",
              "      <td>Wii Sports</td>\n",
              "      <td>Wii</td>\n",
              "      <td>2006.0</td>\n",
              "      <td>Sports</td>\n",
              "      <td>Nintendo</td>\n",
              "      <td>41.49</td>\n",
              "      <td>29.02</td>\n",
              "      <td>3.77</td>\n",
              "      <td>8.46</td>\n",
              "      <td>82.74</td>\n",
              "    </tr>\n",
              "    <tr>\n",
              "      <th>1</th>\n",
              "      <td>2</td>\n",
              "      <td>Super Mario Bros.</td>\n",
              "      <td>NES</td>\n",
              "      <td>1985.0</td>\n",
              "      <td>Platform</td>\n",
              "      <td>Nintendo</td>\n",
              "      <td>29.08</td>\n",
              "      <td>3.58</td>\n",
              "      <td>6.81</td>\n",
              "      <td>0.77</td>\n",
              "      <td>40.24</td>\n",
              "    </tr>\n",
              "    <tr>\n",
              "      <th>2</th>\n",
              "      <td>3</td>\n",
              "      <td>Mario Kart Wii</td>\n",
              "      <td>Wii</td>\n",
              "      <td>2008.0</td>\n",
              "      <td>Racing</td>\n",
              "      <td>Nintendo</td>\n",
              "      <td>15.85</td>\n",
              "      <td>12.88</td>\n",
              "      <td>3.79</td>\n",
              "      <td>3.31</td>\n",
              "      <td>35.82</td>\n",
              "    </tr>\n",
              "    <tr>\n",
              "      <th>3</th>\n",
              "      <td>4</td>\n",
              "      <td>Wii Sports Resort</td>\n",
              "      <td>Wii</td>\n",
              "      <td>2009.0</td>\n",
              "      <td>Sports</td>\n",
              "      <td>Nintendo</td>\n",
              "      <td>15.75</td>\n",
              "      <td>11.01</td>\n",
              "      <td>3.28</td>\n",
              "      <td>2.96</td>\n",
              "      <td>33.00</td>\n",
              "    </tr>\n",
              "    <tr>\n",
              "      <th>4</th>\n",
              "      <td>5</td>\n",
              "      <td>Pokemon Red/Pokemon Blue</td>\n",
              "      <td>GB</td>\n",
              "      <td>1996.0</td>\n",
              "      <td>Role-Playing</td>\n",
              "      <td>Nintendo</td>\n",
              "      <td>11.27</td>\n",
              "      <td>8.89</td>\n",
              "      <td>10.22</td>\n",
              "      <td>1.00</td>\n",
              "      <td>31.37</td>\n",
              "    </tr>\n",
              "    <tr>\n",
              "      <th>...</th>\n",
              "      <td>...</td>\n",
              "      <td>...</td>\n",
              "      <td>...</td>\n",
              "      <td>...</td>\n",
              "      <td>...</td>\n",
              "      <td>...</td>\n",
              "      <td>...</td>\n",
              "      <td>...</td>\n",
              "      <td>...</td>\n",
              "      <td>...</td>\n",
              "      <td>...</td>\n",
              "    </tr>\n",
              "    <tr>\n",
              "      <th>16593</th>\n",
              "      <td>16596</td>\n",
              "      <td>Woody Woodpecker in Crazy Castle 5</td>\n",
              "      <td>GBA</td>\n",
              "      <td>2002.0</td>\n",
              "      <td>Platform</td>\n",
              "      <td>Kemco</td>\n",
              "      <td>0.01</td>\n",
              "      <td>0.00</td>\n",
              "      <td>0.00</td>\n",
              "      <td>0.00</td>\n",
              "      <td>0.01</td>\n",
              "    </tr>\n",
              "    <tr>\n",
              "      <th>16594</th>\n",
              "      <td>16597</td>\n",
              "      <td>Men in Black II: Alien Escape</td>\n",
              "      <td>GC</td>\n",
              "      <td>2003.0</td>\n",
              "      <td>Shooter</td>\n",
              "      <td>Infogrames</td>\n",
              "      <td>0.01</td>\n",
              "      <td>0.00</td>\n",
              "      <td>0.00</td>\n",
              "      <td>0.00</td>\n",
              "      <td>0.01</td>\n",
              "    </tr>\n",
              "    <tr>\n",
              "      <th>16595</th>\n",
              "      <td>16598</td>\n",
              "      <td>SCORE International Baja 1000: The Official Game</td>\n",
              "      <td>PS2</td>\n",
              "      <td>2008.0</td>\n",
              "      <td>Racing</td>\n",
              "      <td>Activision</td>\n",
              "      <td>0.00</td>\n",
              "      <td>0.00</td>\n",
              "      <td>0.00</td>\n",
              "      <td>0.00</td>\n",
              "      <td>0.01</td>\n",
              "    </tr>\n",
              "    <tr>\n",
              "      <th>16596</th>\n",
              "      <td>16599</td>\n",
              "      <td>Know How 2</td>\n",
              "      <td>DS</td>\n",
              "      <td>2010.0</td>\n",
              "      <td>Puzzle</td>\n",
              "      <td>7G//AMES</td>\n",
              "      <td>0.00</td>\n",
              "      <td>0.01</td>\n",
              "      <td>0.00</td>\n",
              "      <td>0.00</td>\n",
              "      <td>0.01</td>\n",
              "    </tr>\n",
              "    <tr>\n",
              "      <th>16597</th>\n",
              "      <td>16600</td>\n",
              "      <td>Spirits &amp; Spells</td>\n",
              "      <td>GBA</td>\n",
              "      <td>2003.0</td>\n",
              "      <td>Platform</td>\n",
              "      <td>Wanadoo</td>\n",
              "      <td>0.01</td>\n",
              "      <td>0.00</td>\n",
              "      <td>0.00</td>\n",
              "      <td>0.00</td>\n",
              "      <td>0.01</td>\n",
              "    </tr>\n",
              "  </tbody>\n",
              "</table>\n",
              "<p>16598 rows × 11 columns</p>\n",
              "</div>"
            ],
            "text/plain": [
              "        Rank  ... Global_Sales\n",
              "0          1  ...        82.74\n",
              "1          2  ...        40.24\n",
              "2          3  ...        35.82\n",
              "3          4  ...        33.00\n",
              "4          5  ...        31.37\n",
              "...      ...  ...          ...\n",
              "16593  16596  ...         0.01\n",
              "16594  16597  ...         0.01\n",
              "16595  16598  ...         0.01\n",
              "16596  16599  ...         0.01\n",
              "16597  16600  ...         0.01\n",
              "\n",
              "[16598 rows x 11 columns]"
            ]
          },
          "metadata": {
            "tags": []
          },
          "execution_count": 140
        }
      ]
    },
    {
      "cell_type": "markdown",
      "metadata": {
        "id": "t-pUsSK64OM9"
      },
      "source": [
        "Foi criada uma função para facilitação fazer a medida de centralidade e dispersão para colunas numericas."
      ]
    },
    {
      "cell_type": "code",
      "metadata": {
        "id": "Cuu-awFQ21ZV"
      },
      "source": [
        "#função\n",
        "def vg_t (a):\n",
        "    print(\"Medidas de Centralidade e Dispersão para \",a)\n",
        "    print(\"media: \",vg[a].mean())\n",
        "    print(\"desvio padrão: \",vg[a].std())\n",
        "    print(\"mediana: \",vg[a].median())\n",
        "    print(\"variancia: \",vg[a].var())\n",
        "    print(\"moda:\\n\",vg[a].mode())\n",
        "    print(\"boxplot para \",a)\n",
        "    vg.boxplot(column=a)"
      ],
      "execution_count": 141,
      "outputs": []
    },
    {
      "cell_type": "code",
      "metadata": {
        "colab": {
          "base_uri": "https://localhost:8080/",
          "height": 418
        },
        "id": "G8vgLl3F5eb_",
        "outputId": "a84f8d5c-6c3e-4f91-ff42-6d9804e7a780"
      },
      "source": [
        "vg_t(\"Year\")"
      ],
      "execution_count": 142,
      "outputs": [
        {
          "output_type": "stream",
          "text": [
            "Medidas de Centralidade e Dispersão para  Year\n",
            "media:  2006.4064433147546\n",
            "desvio padrão:  5.828981114712785\n",
            "mediana:  2007.0\n",
            "variancia:  33.977020835678296\n",
            "moda:\n",
            " 0    2009.0\n",
            "dtype: float64\n",
            "boxplot para  Year\n"
          ],
          "name": "stdout"
        },
        {
          "output_type": "display_data",
          "data": {
            "image/png": "[encoded data removed]",
            "text/plain": [
              "<Figure size 432x288 with 1 Axes>"
            ]
          },
          "metadata": {
            "tags": [],
            "needs_background": "light"
          }
        }
      ]
    },
    {
      "cell_type": "code",
      "metadata": {
        "colab": {
          "base_uri": "https://localhost:8080/",
          "height": 419
        },
        "id": "HiNG12FO5jmh",
        "outputId": "835762a2-39df-4ca5-b5f4-5260da05afdf"
      },
      "source": [
        "vg_t(\"NA_Sales\")"
      ],
      "execution_count": 143,
      "outputs": [
        {
          "output_type": "stream",
          "text": [
            "Medidas de Centralidade e Dispersão para  NA_Sales\n",
            "media:  0.26466742981084057\n",
            "desvio padrão:  0.8166830292990428\n",
            "mediana:  0.08\n",
            "variancia:  0.6669711703450613\n",
            "moda:\n",
            " 0    0.0\n",
            "dtype: float64\n",
            "boxplot para  NA_Sales\n"
          ],
          "name": "stdout"
        },
        {
          "output_type": "display_data",
          "data": {
            "image/png": "[encoded data removed]",
            "text/plain": [
              "<Figure size 432x288 with 1 Axes>"
            ]
          },
          "metadata": {
            "tags": [],
            "needs_background": "light"
          }
        }
      ]
    },
    {
      "cell_type": "code",
      "metadata": {
        "colab": {
          "base_uri": "https://localhost:8080/",
          "height": 420
        },
        "id": "LqHax2np5k_I",
        "outputId": "d31233e8-c902-4b80-9ba1-ea9b6440c311"
      },
      "source": [
        "vg_t(\"EU_Sales\")"
      ],
      "execution_count": 144,
      "outputs": [
        {
          "output_type": "stream",
          "text": [
            "Medidas de Centralidade e Dispersão para  EU_Sales\n",
            "media:  0.1466520062658483\n",
            "desvio padrão:  0.5053512312869366\n",
            "mediana:  0.02\n",
            "variancia:  0.25537986696322285\n",
            "moda:\n",
            " 0    0.0\n",
            "dtype: float64\n",
            "boxplot para  EU_Sales\n"
          ],
          "name": "stdout"
        },
        {
          "output_type": "display_data",
          "data": {
            "image/png": "[encoded data removed]",
            "text/plain": [
              "<Figure size 432x288 with 1 Axes>"
            ]
          },
          "metadata": {
            "tags": [],
            "needs_background": "light"
          }
        }
      ]
    },
    {
      "cell_type": "code",
      "metadata": {
        "colab": {
          "base_uri": "https://localhost:8080/",
          "height": 419
        },
        "id": "-x0bDjpF5mUK",
        "outputId": "b818cb22-80fc-41e9-9da1-d03de03578fd"
      },
      "source": [
        "vg_t(\"JP_Sales\")"
      ],
      "execution_count": 145,
      "outputs": [
        {
          "output_type": "stream",
          "text": [
            "Medidas de Centralidade e Dispersão para  JP_Sales\n",
            "media:  0.07778166044101108\n",
            "desvio padrão:  0.30929064808213236\n",
            "mediana:  0.0\n",
            "variancia:  0.09566070499106545\n",
            "moda:\n",
            " 0    0.0\n",
            "dtype: float64\n",
            "boxplot para  JP_Sales\n"
          ],
          "name": "stdout"
        },
        {
          "output_type": "display_data",
          "data": {
            "image/png": "[encoded data removed]",
            "text/plain": [
              "<Figure size 432x288 with 1 Axes>"
            ]
          },
          "metadata": {
            "tags": [],
            "needs_background": "light"
          }
        }
      ]
    },
    {
      "cell_type": "code",
      "metadata": {
        "colab": {
          "base_uri": "https://localhost:8080/",
          "height": 419
        },
        "id": "ccwMDto45nvu",
        "outputId": "4631d8ef-421e-4f12-f4d7-2eed42caea3e"
      },
      "source": [
        "vg_t(\"Other_Sales\")"
      ],
      "execution_count": 146,
      "outputs": [
        {
          "output_type": "stream",
          "text": [
            "Medidas de Centralidade e Dispersão para  Other_Sales\n",
            "media:  0.048063019640913515\n",
            "desvio padrão:  0.18858840291278392\n",
            "mediana:  0.01\n",
            "variancia:  0.03556558571319453\n",
            "moda:\n",
            " 0    0.0\n",
            "dtype: float64\n",
            "boxplot para  Other_Sales\n"
          ],
          "name": "stdout"
        },
        {
          "output_type": "display_data",
          "data": {
            "image/png": "[encoded data removed]",
            "text/plain": [
              "<Figure size 432x288 with 1 Axes>"
            ]
          },
          "metadata": {
            "tags": [],
            "needs_background": "light"
          }
        }
      ]
    },
    {
      "cell_type": "code",
      "metadata": {
        "colab": {
          "base_uri": "https://localhost:8080/",
          "height": 419
        },
        "id": "rWrG5kDZ5o6w",
        "outputId": "538283f7-13f1-4703-c021-e5f483e7b4bd"
      },
      "source": [
        "vg_t(\"Global_Sales\")"
      ],
      "execution_count": 147,
      "outputs": [
        {
          "output_type": "stream",
          "text": [
            "Medidas de Centralidade e Dispersão para  Global_Sales\n",
            "media:  0.53744065550074\n",
            "desvio padrão:  1.5550279355699022\n",
            "mediana:  0.17\n",
            "variancia:  2.4181118804027917\n",
            "moda:\n",
            " 0    0.02\n",
            "dtype: float64\n",
            "boxplot para  Global_Sales\n"
          ],
          "name": "stdout"
        },
        {
          "output_type": "display_data",
          "data": {
            "image/png": "[encoded data removed]",
            "text/plain": [
              "<Figure size 432x288 with 1 Axes>"
            ]
          },
          "metadata": {
            "tags": [],
            "needs_background": "light"
          }
        }
      ]
    },
    {
      "cell_type": "markdown",
      "metadata": {
        "id": "Zo2sIKceQguD"
      },
      "source": [
        "## 3. Limpeza e transformação dos dados necessários\n",
        "para inicio do tratamento foi necessario limpar todos os NAN e linhas que continham nulo no dataset, para fluir melhor e evitar problema quando for mexer nas colunas."
      ]
    },
    {
      "cell_type": "code",
      "metadata": {
        "id": "MX_J92JEbYVI"
      },
      "source": [
        "vg = vg.dropna()"
      ],
      "execution_count": 148,
      "outputs": []
    },
    {
      "cell_type": "markdown",
      "metadata": {
        "id": "0NG9IPYoogUZ"
      },
      "source": [
        "observamos que os boxplots estavam muito poluidos e com muitos outliers a serem visualizados, então como tratamento usamos log nas colunas de venda."
      ]
    },
    {
      "cell_type": "code",
      "metadata": {
        "colab": {
          "base_uri": "https://localhost:8080/"
        },
        "id": "g_RcDm2oohz1",
        "outputId": "a22a01a8-8921-405b-a6e4-cf0cee672716"
      },
      "source": [
        "vg[\"NA_Sales\"] = np.log(vg[\"NA_Sales\"])\r\n",
        "vg[\"EU_Sales\"] = np.log(vg[\"EU_Sales\"])\r\n",
        "vg[\"JP_Sales\"] = np.log(vg[\"JP_Sales\"])\r\n",
        "vg[\"Other_Sales\"] = np.log(vg[\"Other_Sales\"])\r\n",
        "vg[\"Global_Sales\"] = np.log(vg[\"Global_Sales\"])\r\n"
      ],
      "execution_count": 149,
      "outputs": [
        {
          "output_type": "stream",
          "text": [
            "/usr/local/lib/python3.6/dist-packages/pandas/core/series.py:726: RuntimeWarning: divide by zero encountered in log\n",
            "  result = getattr(ufunc, method)(*inputs, **kwargs)\n",
            "/usr/local/lib/python3.6/dist-packages/ipykernel_launcher.py:1: SettingWithCopyWarning: \n",
            "A value is trying to be set on a copy of a slice from a DataFrame.\n",
            "Try using .loc[row_indexer,col_indexer] = value instead\n",
            "\n",
            "See the caveats in the documentation: https://pandas.pydata.org/pandas-docs/stable/user_guide/indexing.html#returning-a-view-versus-a-copy\n",
            "  \"\"\"Entry point for launching an IPython kernel.\n",
            "/usr/local/lib/python3.6/dist-packages/ipykernel_launcher.py:2: SettingWithCopyWarning: \n",
            "A value is trying to be set on a copy of a slice from a DataFrame.\n",
            "Try using .loc[row_indexer,col_indexer] = value instead\n",
            "\n",
            "See the caveats in the documentation: https://pandas.pydata.org/pandas-docs/stable/user_guide/indexing.html#returning-a-view-versus-a-copy\n",
            "  \n",
            "/usr/local/lib/python3.6/dist-packages/ipykernel_launcher.py:3: SettingWithCopyWarning: \n",
            "A value is trying to be set on a copy of a slice from a DataFrame.\n",
            "Try using .loc[row_indexer,col_indexer] = value instead\n",
            "\n",
            "See the caveats in the documentation: https://pandas.pydata.org/pandas-docs/stable/user_guide/indexing.html#returning-a-view-versus-a-copy\n",
            "  This is separate from the ipykernel package so we can avoid doing imports until\n",
            "/usr/local/lib/python3.6/dist-packages/ipykernel_launcher.py:4: SettingWithCopyWarning: \n",
            "A value is trying to be set on a copy of a slice from a DataFrame.\n",
            "Try using .loc[row_indexer,col_indexer] = value instead\n",
            "\n",
            "See the caveats in the documentation: https://pandas.pydata.org/pandas-docs/stable/user_guide/indexing.html#returning-a-view-versus-a-copy\n",
            "  after removing the cwd from sys.path.\n",
            "/usr/local/lib/python3.6/dist-packages/ipykernel_launcher.py:5: SettingWithCopyWarning: \n",
            "A value is trying to be set on a copy of a slice from a DataFrame.\n",
            "Try using .loc[row_indexer,col_indexer] = value instead\n",
            "\n",
            "See the caveats in the documentation: https://pandas.pydata.org/pandas-docs/stable/user_guide/indexing.html#returning-a-view-versus-a-copy\n",
            "  \"\"\"\n"
          ],
          "name": "stderr"
        }
      ]
    },
    {
      "cell_type": "code",
      "metadata": {
        "colab": {
          "base_uri": "https://localhost:8080/",
          "height": 286
        },
        "id": "hl3FAC4BqKSc",
        "outputId": "667340b2-3427-4581-bbf9-20f8efba02bb"
      },
      "source": [
        "vg.boxplot(column=\"NA_Sales\")"
      ],
      "execution_count": 150,
      "outputs": [
        {
          "output_type": "execute_result",
          "data": {
            "text/plain": [
              "<matplotlib.axes._subplots.AxesSubplot at 0x7f706aea5550>"
            ]
          },
          "metadata": {
            "tags": []
          },
          "execution_count": 150
        },
        {
          "output_type": "display_data",
          "data": {
            "image/png": "[encoded data removed]",
            "text/plain": [
              "<Figure size 432x288 with 1 Axes>"
            ]
          },
          "metadata": {
            "tags": [],
            "needs_background": "light"
          }
        }
      ]
    },
    {
      "cell_type": "code",
      "metadata": {
        "colab": {
          "base_uri": "https://localhost:8080/",
          "height": 283
        },
        "id": "W2cbfSznpfFv",
        "outputId": "3b79cb1a-6612-4b64-bdce-f63c12db1c0c"
      },
      "source": [
        "vg.boxplot(column=\"EU_Sales\")"
      ],
      "execution_count": 151,
      "outputs": [
        {
          "output_type": "execute_result",
          "data": {
            "text/plain": [
              "<matplotlib.axes._subplots.AxesSubplot at 0x7f706ae695f8>"
            ]
          },
          "metadata": {
            "tags": []
          },
          "execution_count": 151
        },
        {
          "output_type": "display_data",
          "data": {
            "image/png": "[encoded data removed]",
            "text/plain": [
              "<Figure size 432x288 with 1 Axes>"
            ]
          },
          "metadata": {
            "tags": [],
            "needs_background": "light"
          }
        }
      ]
    },
    {
      "cell_type": "code",
      "metadata": {
        "colab": {
          "base_uri": "https://localhost:8080/",
          "height": 317
        },
        "id": "lxETcEPtpRAT",
        "outputId": "8c32c163-b199-4d54-e81e-c69666dc486a"
      },
      "source": [
        "vg.boxplot(column=\"JP_Sales\")"
      ],
      "execution_count": 152,
      "outputs": [
        {
          "output_type": "stream",
          "text": [
            "/usr/local/lib/python3.6/dist-packages/numpy/lib/function_base.py:3942: RuntimeWarning: invalid value encountered in multiply\n",
            "  x2 = take(ap, indices_above, axis=axis) * weights_above\n"
          ],
          "name": "stderr"
        },
        {
          "output_type": "execute_result",
          "data": {
            "text/plain": [
              "<matplotlib.axes._subplots.AxesSubplot at 0x7f706adf5ac8>"
            ]
          },
          "metadata": {
            "tags": []
          },
          "execution_count": 152
        },
        {
          "output_type": "display_data",
          "data": {
            "image/png": "[encoded data removed]",
            "text/plain": [
              "<Figure size 432x288 with 1 Axes>"
            ]
          },
          "metadata": {
            "tags": [],
            "needs_background": "light"
          }
        }
      ]
    },
    {
      "cell_type": "code",
      "metadata": {
        "colab": {
          "base_uri": "https://localhost:8080/",
          "height": 283
        },
        "id": "706Dt_QfpZyI",
        "outputId": "c15e1eb7-ca53-4295-9411-1d11b54a3ecb"
      },
      "source": [
        "vg.boxplot(column=\"Other_Sales\")"
      ],
      "execution_count": 153,
      "outputs": [
        {
          "output_type": "execute_result",
          "data": {
            "text/plain": [
              "<matplotlib.axes._subplots.AxesSubplot at 0x7f706aea5f98>"
            ]
          },
          "metadata": {
            "tags": []
          },
          "execution_count": 153
        },
        {
          "output_type": "display_data",
          "data": {
            "image/png": "[encoded data removed]",
            "text/plain": [
              "<Figure size 432x288 with 1 Axes>"
            ]
          },
          "metadata": {
            "tags": [],
            "needs_background": "light"
          }
        }
      ]
    },
    {
      "cell_type": "code",
      "metadata": {
        "colab": {
          "base_uri": "https://localhost:8080/",
          "height": 283
        },
        "id": "mpVx6sMgpzKQ",
        "outputId": "9069f3ef-c428-40b6-feb6-6f7471b861d7"
      },
      "source": [
        "vg.boxplot(column=\"Global_Sales\")"
      ],
      "execution_count": 154,
      "outputs": [
        {
          "output_type": "execute_result",
          "data": {
            "text/plain": [
              "<matplotlib.axes._subplots.AxesSubplot at 0x7f706ad8f908>"
            ]
          },
          "metadata": {
            "tags": []
          },
          "execution_count": 154
        },
        {
          "output_type": "display_data",
          "data": {
            "image/png": "[encoded data removed]",
            "text/plain": [
              "<Figure size 432x288 with 1 Axes>"
            ]
          },
          "metadata": {
            "tags": [],
            "needs_background": "light"
          }
        }
      ]
    },
    {
      "cell_type": "markdown",
      "metadata": {
        "id": "qkMWnbNtbgdm"
      },
      "source": [
        "Foi visto que seria necesssario, transformar a coluna Year em inteiro vendo que ela é flutuante."
      ]
    },
    {
      "cell_type": "code",
      "metadata": {
        "id": "-QyW4yaqQlMv"
      },
      "source": [
        "vg = vg[vg[\"Year\"].notnull()]\n",
        "vg = vg.astype({\"Year\":int})"
      ],
      "execution_count": 155,
      "outputs": []
    },
    {
      "cell_type": "markdown",
      "metadata": {
        "id": "TCjAApNTCjMt"
      },
      "source": [
        "## 4. Perguntas"
      ]
    },
    {
      "cell_type": "markdown",
      "metadata": {
        "id": "ueCbw8VWDacT"
      },
      "source": [
        "### 4.1 Quais os gêneros mais presentes?"
      ]
    },
    {
      "cell_type": "code",
      "metadata": {
        "colab": {
          "base_uri": "https://localhost:8080/"
        },
        "id": "iHyIs2WeDjm7",
        "outputId": "61211ad6-5541-431c-80a8-4424f1e1e516"
      },
      "source": [
        "vg[\"Genre\"].value_counts()"
      ],
      "execution_count": 156,
      "outputs": [
        {
          "output_type": "execute_result",
          "data": {
            "text/plain": [
              "Action          3251\n",
              "Sports          2304\n",
              "Misc            1686\n",
              "Role-Playing    1470\n",
              "Shooter         1282\n",
              "Adventure       1274\n",
              "Racing          1225\n",
              "Platform         875\n",
              "Simulation       848\n",
              "Fighting         836\n",
              "Strategy         670\n",
              "Puzzle           570\n",
              "Name: Genre, dtype: int64"
            ]
          },
          "metadata": {
            "tags": []
          },
          "execution_count": 156
        }
      ]
    },
    {
      "cell_type": "markdown",
      "metadata": {
        "id": "qDW4TiQNDuFg"
      },
      "source": [
        "Resposta: Logo é visto que o genero ação é o mais presente no conjunto de dados."
      ]
    },
    {
      "cell_type": "markdown",
      "metadata": {
        "id": "U18WTr-kD38k"
      },
      "source": [
        "### 4.2 Qual Plataforma mais presente entre os 10 primeiro do rank de vendas"
      ]
    },
    {
      "cell_type": "code",
      "metadata": {
        "colab": {
          "base_uri": "https://localhost:8080/",
          "height": 359
        },
        "id": "8C01T6KaEB4j",
        "outputId": "3a6c8a04-f079-419b-d431-4906df931287"
      },
      "source": [
        "vg[[\"Platform\",\"Global_Sales\"]].sort_values(by=\"Global_Sales\",ascending=False).head(10)"
      ],
      "execution_count": 157,
      "outputs": [
        {
          "output_type": "execute_result",
          "data": {
            "text/html": [
              "<div>\n",
              "<style scoped>\n",
              "    .dataframe tbody tr th:only-of-type {\n",
              "        vertical-align: middle;\n",
              "    }\n",
              "\n",
              "    .dataframe tbody tr th {\n",
              "        vertical-align: top;\n",
              "    }\n",
              "\n",
              "    .dataframe thead th {\n",
              "        text-align: right;\n",
              "    }\n",
              "</style>\n",
              "<table border=\"1\" class=\"dataframe\">\n",
              "  <thead>\n",
              "    <tr style=\"text-align: right;\">\n",
              "      <th></th>\n",
              "      <th>Platform</th>\n",
              "      <th>Global_Sales</th>\n",
              "    </tr>\n",
              "  </thead>\n",
              "  <tbody>\n",
              "    <tr>\n",
              "      <th>0</th>\n",
              "      <td>Wii</td>\n",
              "      <td>4.415703</td>\n",
              "    </tr>\n",
              "    <tr>\n",
              "      <th>1</th>\n",
              "      <td>NES</td>\n",
              "      <td>3.694862</td>\n",
              "    </tr>\n",
              "    <tr>\n",
              "      <th>2</th>\n",
              "      <td>Wii</td>\n",
              "      <td>3.578506</td>\n",
              "    </tr>\n",
              "    <tr>\n",
              "      <th>3</th>\n",
              "      <td>Wii</td>\n",
              "      <td>3.496508</td>\n",
              "    </tr>\n",
              "    <tr>\n",
              "      <th>4</th>\n",
              "      <td>GB</td>\n",
              "      <td>3.445852</td>\n",
              "    </tr>\n",
              "    <tr>\n",
              "      <th>5</th>\n",
              "      <td>GB</td>\n",
              "      <td>3.409827</td>\n",
              "    </tr>\n",
              "    <tr>\n",
              "      <th>6</th>\n",
              "      <td>DS</td>\n",
              "      <td>3.401531</td>\n",
              "    </tr>\n",
              "    <tr>\n",
              "      <th>7</th>\n",
              "      <td>Wii</td>\n",
              "      <td>3.367985</td>\n",
              "    </tr>\n",
              "    <tr>\n",
              "      <th>8</th>\n",
              "      <td>Wii</td>\n",
              "      <td>3.354106</td>\n",
              "    </tr>\n",
              "    <tr>\n",
              "      <th>9</th>\n",
              "      <td>NES</td>\n",
              "      <td>3.343215</td>\n",
              "    </tr>\n",
              "  </tbody>\n",
              "</table>\n",
              "</div>"
            ],
            "text/plain": [
              "  Platform  Global_Sales\n",
              "0      Wii      4.415703\n",
              "1      NES      3.694862\n",
              "2      Wii      3.578506\n",
              "3      Wii      3.496508\n",
              "4       GB      3.445852\n",
              "5       GB      3.409827\n",
              "6       DS      3.401531\n",
              "7      Wii      3.367985\n",
              "8      Wii      3.354106\n",
              "9      NES      3.343215"
            ]
          },
          "metadata": {
            "tags": []
          },
          "execution_count": 157
        }
      ]
    },
    {
      "cell_type": "markdown",
      "metadata": {
        "id": "Dv6VO33ZFNjT"
      },
      "source": [
        "Resposta: logo é visto que Wii é a plataforma mais presente."
      ]
    },
    {
      "cell_type": "markdown",
      "metadata": {
        "id": "UG48wPk5FW6A"
      },
      "source": [
        "### 4.3 Quais jogos que venderam mais de 10.000.000 de cópias em 2 ou mais regiões do mundo?"
      ]
    },
    {
      "cell_type": "code",
      "metadata": {
        "colab": {
          "base_uri": "https://localhost:8080/",
          "height": 49
        },
        "id": "F91DKo-nGLyK",
        "outputId": "5e357d7e-b298-44a6-9db3-5abf6d12ed24"
      },
      "source": [
        "vg[(vg['NA_Sales'] >= 10) & (vg['EU_Sales'] >=10 ) | (vg['NA_Sales'] >=10 ) & (vg['JP_Sales'] >=10 ) | (vg['NA_Sales'] >=10 ) & (vg['Other_Sales'] >=10 ) \n",
        "| (vg['EU_Sales'] >=10 ) & (vg['JP_Sales'] >=10 ) | (vg['EU_Sales'] >=10 ) & (vg['Other_Sales'] >=10 ) | (vg['JP_Sales'] >=10 ) & (vg['Other_Sales'] >=10 )]"
      ],
      "execution_count": 158,
      "outputs": [
        {
          "output_type": "execute_result",
          "data": {
            "text/html": [
              "<div>\n",
              "<style scoped>\n",
              "    .dataframe tbody tr th:only-of-type {\n",
              "        vertical-align: middle;\n",
              "    }\n",
              "\n",
              "    .dataframe tbody tr th {\n",
              "        vertical-align: top;\n",
              "    }\n",
              "\n",
              "    .dataframe thead th {\n",
              "        text-align: right;\n",
              "    }\n",
              "</style>\n",
              "<table border=\"1\" class=\"dataframe\">\n",
              "  <thead>\n",
              "    <tr style=\"text-align: right;\">\n",
              "      <th></th>\n",
              "      <th>Rank</th>\n",
              "      <th>Name</th>\n",
              "      <th>Platform</th>\n",
              "      <th>Year</th>\n",
              "      <th>Genre</th>\n",
              "      <th>Publisher</th>\n",
              "      <th>NA_Sales</th>\n",
              "      <th>EU_Sales</th>\n",
              "      <th>JP_Sales</th>\n",
              "      <th>Other_Sales</th>\n",
              "      <th>Global_Sales</th>\n",
              "    </tr>\n",
              "  </thead>\n",
              "  <tbody>\n",
              "  </tbody>\n",
              "</table>\n",
              "</div>"
            ],
            "text/plain": [
              "Empty DataFrame\n",
              "Columns: [Rank, Name, Platform, Year, Genre, Publisher, NA_Sales, EU_Sales, JP_Sales, Other_Sales, Global_Sales]\n",
              "Index: []"
            ]
          },
          "metadata": {
            "tags": []
          },
          "execution_count": 158
        }
      ]
    },
    {
      "cell_type": "markdown",
      "metadata": {
        "id": "y1GFw0kgKPgz"
      },
      "source": [
        "Resposta: Logo é visto que temos apenas 4 jogos que chegam a mais de 10 milhões de copias em mais de duas regiões."
      ]
    },
    {
      "cell_type": "markdown",
      "metadata": {
        "id": "yQcAn7NtKtj9"
      },
      "source": [
        "### 4.4 Como podemos usar agrupamento para predizer o que vai acontecer na industria dos games com o passar dos anos ?"
      ]
    },
    {
      "cell_type": "code",
      "metadata": {
        "colab": {
          "base_uri": "https://localhost:8080/",
          "height": 279
        },
        "id": "Cd_HgO9ub3jW",
        "outputId": "7dfdb040-388e-479f-b88c-5c1bcd798594"
      },
      "source": [
        "g = sns.scatterplot(data=vg, x=\"Year\", y=\"Global_Sales\")\n",
        "g.figure.set_figwidth(12)"
      ],
      "execution_count": 159,
      "outputs": [
        {
          "output_type": "display_data",
          "data": {
            "image/png": "[encoded data removed]",
            "text/plain": [
              "<Figure size 864x288 with 1 Axes>"
            ]
          },
          "metadata": {
            "tags": [],
            "needs_background": "light"
          }
        }
      ]
    },
    {
      "cell_type": "code",
      "metadata": {
        "colab": {
          "base_uri": "https://localhost:8080/"
        },
        "id": "7PTWs4MOcShJ",
        "outputId": "a8dfb898-2862-4474-82c6-2f1d738e93e5"
      },
      "source": [
        "from sklearn.cluster import KMeans\n",
        "\n",
        "grupos_vg = vg[[\"Year\",\"Global_Sales\"]]\n",
        "\n",
        "kmeans = KMeans(n_clusters=2)\n",
        "kmeans.fit(grupos_vg)"
      ],
      "execution_count": 160,
      "outputs": [
        {
          "output_type": "execute_result",
          "data": {
            "text/plain": [
              "KMeans(algorithm='auto', copy_x=True, init='k-means++', max_iter=300,\n",
              "       n_clusters=2, n_init=10, n_jobs=None, precompute_distances='auto',\n",
              "       random_state=None, tol=0.0001, verbose=0)"
            ]
          },
          "metadata": {
            "tags": []
          },
          "execution_count": 160
        }
      ]
    },
    {
      "cell_type": "code",
      "metadata": {
        "colab": {
          "base_uri": "https://localhost:8080/",
          "height": 279
        },
        "id": "l0Fqz7JJdeLv",
        "outputId": "e02dc66d-7ab5-4abe-c742-d2a063061e46"
      },
      "source": [
        "g = sns.scatterplot(data=grupos_vg, x=\"Year\", y=\"Global_Sales\", hue=kmeans.labels_)\n",
        "g.figure.set_figwidth(12)"
      ],
      "execution_count": 161,
      "outputs": [
        {
          "output_type": "display_data",
          "data": {
            "image/png": "[encoded data removed]",
            "text/plain": [
              "<Figure size 864x288 with 1 Axes>"
            ]
          },
          "metadata": {
            "tags": [],
            "needs_background": "light"
          }
        }
      ]
    },
    {
      "cell_type": "code",
      "metadata": {
        "id": "vE5T4WArfvX-",
        "colab": {
          "base_uri": "https://localhost:8080/"
        },
        "outputId": "a02da315-f7fb-42ce-f63a-72cac4e15590"
      },
      "source": [
        "print(vg[kmeans.labels_ == 0][\"Global_Sales\"].sum())\n",
        "print(vg[kmeans.labels_ == 1][\"Global_Sales\"].sum())"
      ],
      "execution_count": 162,
      "outputs": [
        {
          "output_type": "stream",
          "text": [
            "-21011.19617387518\n",
            "-7275.440325034859\n"
          ],
          "name": "stdout"
        }
      ]
    },
    {
      "cell_type": "markdown",
      "metadata": {
        "id": "PcguMbEDMlxt"
      },
      "source": [
        "Reposta: Como podemos observar a partir 2005 teve um \"Boom\" dos games, pois passaram a ser mais acessiveis para todas as classes sociais."
      ]
    },
    {
      "cell_type": "markdown",
      "metadata": {
        "id": "GqR3b3PTvQns"
      },
      "source": [
        "## 5. Conclusão"
      ]
    },
    {
      "cell_type": "markdown",
      "metadata": {
        "id": "k2ePdbOh8whO"
      },
      "source": [
        "### 5.1 Resultados encontrados"
      ]
    },
    {
      "cell_type": "markdown",
      "metadata": {
        "id": "uc7EOQc-vVxI"
      },
      "source": [
        "&nbsp; Olhando desde a exploração inicial que foi feita uma analise de medidas de centralidade e disperção do dataset foi visto uma grande variancia, logo quer dizer que existe uma grande descrepancia entre os elementos das linhas, pode ser visto isto nos boxplots. É uma boa analise a ser feita ate porque isto prova que existem jogos fora da curva do dataset que conseguem atingir outros patamares de vendas.\n",
        "\n",
        "&nbsp; Notório ver que o jogo Wii Sports foi o jogo mais vendido como visto no dataset, por ser um jogo feito para a família, acabando sendo muito mais vendido que qualquer outro jogo. Mesmo o Wii Sport sendo o mais vendido, vemos que o gênero mais presente é ação. Mostrando que mesmo esportes sendo bastante vendido a popularidade e a busca pelos jogos de ação se mostra bem notável, possivelmente devido as grandes franquias de jogos de ação que a cada lançamento se torna mais popular, como a franquia da Rockstar Grand Theft Auto.\n",
        "\n",
        "&nbsp; Foi mostrado tambem que existem poucos jogos que foram vendido mais de 10 milhões de copias em mais de duas regiões do mundo. Foi visto tambem que de acordo com o algoritimo de agrupamento k-means a grande explosão de vendas no mundo dos games foi a partir de 2005, onde claramente o desbloqueio do playstation 2 teve uma grande influencia nesses numeros, pois seus jogos passaram a ser mais acessiveis para todos os publicos."
      ]
    },
    {
      "cell_type": "markdown",
      "metadata": {
        "id": "1tWKm5Mrwjij"
      },
      "source": [
        "### 5.2 Limitações\n"
      ]
    },
    {
      "cell_type": "markdown",
      "metadata": {
        "id": "2nRobPQO9K1p"
      },
      "source": [
        "&nbsp; Existe um grande problema que encontramos no dataset, ele consiste em jogos com classificação de gênero errado e com apenas uma classificação, um exemplo que vemos na base de dados é o caso do fifa mostrada a seguir:"
      ]
    },
    {
      "cell_type": "code",
      "metadata": {
        "colab": {
          "base_uri": "https://localhost:8080/"
        },
        "id": "rdxatuNq9-sP",
        "outputId": "879399fe-3372-421e-eee5-9c3817635663"
      },
      "source": [
        "vg[\"Name\"][vg[\"Genre\"] == \"Action\"].head(20)"
      ],
      "execution_count": 163,
      "outputs": [
        {
          "output_type": "execute_result",
          "data": {
            "text/plain": [
              "16                         Grand Theft Auto V\n",
              "17              Grand Theft Auto: San Andreas\n",
              "23                         Grand Theft Auto V\n",
              "24                Grand Theft Auto: Vice City\n",
              "38                       Grand Theft Auto III\n",
              "44                         Grand Theft Auto V\n",
              "45       Pokemon HeartGold/Pokemon SoulSilver\n",
              "51                        Grand Theft Auto IV\n",
              "56                        Grand Theft Auto IV\n",
              "82                             FIFA Soccer 13\n",
              "90     Grand Theft Auto: Liberty City Stories\n",
              "94       The Legend of Zelda: Ocarina of Time\n",
              "100    The Legend of Zelda: Twilight Princess\n",
              "115            Uncharted 3: Drake's Deception\n",
              "119                Uncharted 2: Among Thieves\n",
              "123                       Red Dead Redemption\n",
              "127                       The Legend of Zelda\n",
              "128                      Assassin's Creed III\n",
              "134                       Red Dead Redemption\n",
              "138                                    Driver\n",
              "Name: Name, dtype: object"
            ]
          },
          "metadata": {
            "tags": []
          },
          "execution_count": 163
        }
      ]
    },
    {
      "cell_type": "markdown",
      "metadata": {
        "id": "6uz9YG-s-OMU"
      },
      "source": [
        "Logo visto no indice 82 FIFA Soccer 13 na área de ação"
      ]
    },
    {
      "cell_type": "markdown",
      "metadata": {
        "id": "gu0dKqOn-xsd"
      },
      "source": [
        "### 5.3 Trabalhos futuros e melhorias que podem ser feitas"
      ]
    },
    {
      "cell_type": "markdown",
      "metadata": {
        "id": "XyrHLXjs_MSR"
      },
      "source": [
        "&nbsp; Para trabalhos futuros com o dataset queremos acrescentar mais gráficos e mais manipulação com várias colunas. Além de querer trabalhar com novos datasets para se aprofundar no assunto.\n",
        "\n",
        "\n",
        "&nbsp; Para melhorias, a sugestão a ser feita seria acrescentar mais de um gênero, porque normalmente os jogos tem mais de uma classificação de gênero."
      ]
    }
  ]
}